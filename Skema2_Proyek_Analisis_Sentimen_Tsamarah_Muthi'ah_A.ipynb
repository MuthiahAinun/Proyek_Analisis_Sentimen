{
  "nbformat": 4,
  "nbformat_minor": 0,
  "metadata": {
    "colab": {
      "provenance": [],
      "authorship_tag": "ABX9TyMTwzQRk6dzwB9T/ERa2Lpz",
      "include_colab_link": true
    },
    "kernelspec": {
      "name": "python3",
      "display_name": "Python 3"
    },
    "language_info": {
      "name": "python"
    }
  },
  "cells": [
    {
      "cell_type": "markdown",
      "metadata": {
        "id": "view-in-github",
        "colab_type": "text"
      },
      "source": [
        "<a href=\"https://colab.research.google.com/github/MuthiahAinun/Proyek_Analisis_Sentimen/blob/main/Skema2_Proyek_Analisis_Sentimen_Tsamarah_Muthi'ah_A.ipynb\" target=\"_parent\"><img src=\"https://colab.research.google.com/assets/colab-badge.svg\" alt=\"Open In Colab\"/></a>"
      ]
    },
    {
      "cell_type": "markdown",
      "source": [
        "# Proyek Analisis Sentimen: [Youtube-Comments-dataset]\n",
        "- **Nama:** [Tsamarah Muthi'ah Abdullah]\n",
        "- **Email:** [a135xaf486@devacademy.id]\n",
        "- **ID Dicoding:** [a135xaf48]"
      ],
      "metadata": {
        "id": "TGyNMBnyGxsv"
      }
    },
    {
      "cell_type": "markdown",
      "source": [
        "# Import Library"
      ],
      "metadata": {
        "id": "PkjP4X-lHP1v"
      }
    },
    {
      "cell_type": "code",
      "source": [
        "# Menginstall google API\n",
        "!pip install --upgrade google-api-python-client pandas"
      ],
      "metadata": {
        "colab": {
          "base_uri": "https://localhost:8080/",
          "height": 931
        },
        "id": "fUh0dCwlHnD7",
        "outputId": "0972e66b-bf1a-4287-f870-93a9f97bd38a"
      },
      "execution_count": null,
      "outputs": [
        {
          "output_type": "stream",
          "name": "stdout",
          "text": [
            "Requirement already satisfied: google-api-python-client in /usr/local/lib/python3.11/dist-packages (2.160.0)\n",
            "Collecting google-api-python-client\n",
            "  Downloading google_api_python_client-2.165.0-py2.py3-none-any.whl.metadata (6.6 kB)\n",
            "Requirement already satisfied: pandas in /usr/local/lib/python3.11/dist-packages (2.2.2)\n",
            "Collecting pandas\n",
            "  Downloading pandas-2.2.3-cp311-cp311-manylinux_2_17_x86_64.manylinux2014_x86_64.whl.metadata (89 kB)\n",
            "\u001b[2K     \u001b[90m━━━━━━━━━━━━━━━━━━━━━━━━━━━━━━━━━━━━━━━━\u001b[0m \u001b[32m89.9/89.9 kB\u001b[0m \u001b[31m2.5 MB/s\u001b[0m eta \u001b[36m0:00:00\u001b[0m\n",
            "\u001b[?25hRequirement already satisfied: httplib2<1.0.0,>=0.19.0 in /usr/local/lib/python3.11/dist-packages (from google-api-python-client) (0.22.0)\n",
            "Requirement already satisfied: google-auth!=2.24.0,!=2.25.0,<3.0.0,>=1.32.0 in /usr/local/lib/python3.11/dist-packages (from google-api-python-client) (2.38.0)\n",
            "Requirement already satisfied: google-auth-httplib2<1.0.0,>=0.2.0 in /usr/local/lib/python3.11/dist-packages (from google-api-python-client) (0.2.0)\n",
            "Requirement already satisfied: google-api-core!=2.0.*,!=2.1.*,!=2.2.*,!=2.3.0,<3.0.0,>=1.31.5 in /usr/local/lib/python3.11/dist-packages (from google-api-python-client) (2.24.2)\n",
            "Requirement already satisfied: uritemplate<5,>=3.0.1 in /usr/local/lib/python3.11/dist-packages (from google-api-python-client) (4.1.1)\n",
            "Requirement already satisfied: numpy>=1.23.2 in /usr/local/lib/python3.11/dist-packages (from pandas) (2.0.2)\n",
            "Requirement already satisfied: python-dateutil>=2.8.2 in /usr/local/lib/python3.11/dist-packages (from pandas) (2.8.2)\n",
            "Requirement already satisfied: pytz>=2020.1 in /usr/local/lib/python3.11/dist-packages (from pandas) (2025.1)\n",
            "Requirement already satisfied: tzdata>=2022.7 in /usr/local/lib/python3.11/dist-packages (from pandas) (2025.1)\n",
            "Requirement already satisfied: googleapis-common-protos<2.0.0,>=1.56.2 in /usr/local/lib/python3.11/dist-packages (from google-api-core!=2.0.*,!=2.1.*,!=2.2.*,!=2.3.0,<3.0.0,>=1.31.5->google-api-python-client) (1.69.1)\n",
            "Requirement already satisfied: protobuf!=3.20.0,!=3.20.1,!=4.21.0,!=4.21.1,!=4.21.2,!=4.21.3,!=4.21.4,!=4.21.5,<7.0.0,>=3.19.5 in /usr/local/lib/python3.11/dist-packages (from google-api-core!=2.0.*,!=2.1.*,!=2.2.*,!=2.3.0,<3.0.0,>=1.31.5->google-api-python-client) (4.25.6)\n",
            "Requirement already satisfied: proto-plus<2.0.0,>=1.22.3 in /usr/local/lib/python3.11/dist-packages (from google-api-core!=2.0.*,!=2.1.*,!=2.2.*,!=2.3.0,<3.0.0,>=1.31.5->google-api-python-client) (1.26.1)\n",
            "Requirement already satisfied: requests<3.0.0,>=2.18.0 in /usr/local/lib/python3.11/dist-packages (from google-api-core!=2.0.*,!=2.1.*,!=2.2.*,!=2.3.0,<3.0.0,>=1.31.5->google-api-python-client) (2.32.3)\n",
            "Requirement already satisfied: cachetools<6.0,>=2.0.0 in /usr/local/lib/python3.11/dist-packages (from google-auth!=2.24.0,!=2.25.0,<3.0.0,>=1.32.0->google-api-python-client) (5.5.2)\n",
            "Requirement already satisfied: pyasn1-modules>=0.2.1 in /usr/local/lib/python3.11/dist-packages (from google-auth!=2.24.0,!=2.25.0,<3.0.0,>=1.32.0->google-api-python-client) (0.4.1)\n",
            "Requirement already satisfied: rsa<5,>=3.1.4 in /usr/local/lib/python3.11/dist-packages (from google-auth!=2.24.0,!=2.25.0,<3.0.0,>=1.32.0->google-api-python-client) (4.9)\n",
            "Requirement already satisfied: pyparsing!=3.0.0,!=3.0.1,!=3.0.2,!=3.0.3,<4,>=2.4.2 in /usr/local/lib/python3.11/dist-packages (from httplib2<1.0.0,>=0.19.0->google-api-python-client) (3.2.1)\n",
            "Requirement already satisfied: six>=1.5 in /usr/local/lib/python3.11/dist-packages (from python-dateutil>=2.8.2->pandas) (1.17.0)\n",
            "Requirement already satisfied: pyasn1<0.7.0,>=0.4.6 in /usr/local/lib/python3.11/dist-packages (from pyasn1-modules>=0.2.1->google-auth!=2.24.0,!=2.25.0,<3.0.0,>=1.32.0->google-api-python-client) (0.6.1)\n",
            "Requirement already satisfied: charset-normalizer<4,>=2 in /usr/local/lib/python3.11/dist-packages (from requests<3.0.0,>=2.18.0->google-api-core!=2.0.*,!=2.1.*,!=2.2.*,!=2.3.0,<3.0.0,>=1.31.5->google-api-python-client) (3.4.1)\n",
            "Requirement already satisfied: idna<4,>=2.5 in /usr/local/lib/python3.11/dist-packages (from requests<3.0.0,>=2.18.0->google-api-core!=2.0.*,!=2.1.*,!=2.2.*,!=2.3.0,<3.0.0,>=1.31.5->google-api-python-client) (3.10)\n",
            "Requirement already satisfied: urllib3<3,>=1.21.1 in /usr/local/lib/python3.11/dist-packages (from requests<3.0.0,>=2.18.0->google-api-core!=2.0.*,!=2.1.*,!=2.2.*,!=2.3.0,<3.0.0,>=1.31.5->google-api-python-client) (2.3.0)\n",
            "Requirement already satisfied: certifi>=2017.4.17 in /usr/local/lib/python3.11/dist-packages (from requests<3.0.0,>=2.18.0->google-api-core!=2.0.*,!=2.1.*,!=2.2.*,!=2.3.0,<3.0.0,>=1.31.5->google-api-python-client) (2025.1.31)\n",
            "Downloading google_api_python_client-2.165.0-py2.py3-none-any.whl (13.1 MB)\n",
            "\u001b[2K   \u001b[90m━━━━━━━━━━━━━━━━━━━━━━━━━━━━━━━━━━━━━━━━\u001b[0m \u001b[32m13.1/13.1 MB\u001b[0m \u001b[31m75.8 MB/s\u001b[0m eta \u001b[36m0:00:00\u001b[0m\n",
            "\u001b[?25hDownloading pandas-2.2.3-cp311-cp311-manylinux_2_17_x86_64.manylinux2014_x86_64.whl (13.1 MB)\n",
            "\u001b[2K   \u001b[90m━━━━━━━━━━━━━━━━━━━━━━━━━━━━━━━━━━━━━━━━\u001b[0m \u001b[32m13.1/13.1 MB\u001b[0m \u001b[31m78.4 MB/s\u001b[0m eta \u001b[36m0:00:00\u001b[0m\n",
            "\u001b[?25hInstalling collected packages: pandas, google-api-python-client\n",
            "  Attempting uninstall: pandas\n",
            "    Found existing installation: pandas 2.2.2\n",
            "    Uninstalling pandas-2.2.2:\n",
            "      Successfully uninstalled pandas-2.2.2\n",
            "  Attempting uninstall: google-api-python-client\n",
            "    Found existing installation: google-api-python-client 2.160.0\n",
            "    Uninstalling google-api-python-client-2.160.0:\n",
            "      Successfully uninstalled google-api-python-client-2.160.0\n",
            "\u001b[31mERROR: pip's dependency resolver does not currently take into account all the packages that are installed. This behaviour is the source of the following dependency conflicts.\n",
            "google-colab 1.0.0 requires pandas==2.2.2, but you have pandas 2.2.3 which is incompatible.\u001b[0m\u001b[31m\n",
            "\u001b[0mSuccessfully installed google-api-python-client-2.165.0 pandas-2.2.3\n"
          ]
        },
        {
          "output_type": "display_data",
          "data": {
            "application/vnd.colab-display-data+json": {
              "pip_warning": {
                "packages": [
                  "googleapiclient"
                ]
              },
              "id": "89e98e9bd9e6453fbc24c427798b843d"
            }
          },
          "metadata": {}
        }
      ]
    },
    {
      "cell_type": "code",
      "source": [
        "!pip install gensim"
      ],
      "metadata": {
        "colab": {
          "base_uri": "https://localhost:8080/"
        },
        "id": "FwkllzT7zE1i",
        "outputId": "7e6c5dda-daa6-4810-d629-bcc1c5971314"
      },
      "execution_count": 3,
      "outputs": [
        {
          "output_type": "stream",
          "name": "stdout",
          "text": [
            "Collecting gensim\n",
            "  Downloading gensim-4.3.3-cp311-cp311-manylinux_2_17_x86_64.manylinux2014_x86_64.whl.metadata (8.1 kB)\n",
            "Collecting numpy<2.0,>=1.18.5 (from gensim)\n",
            "  Downloading numpy-1.26.4-cp311-cp311-manylinux_2_17_x86_64.manylinux2014_x86_64.whl.metadata (61 kB)\n",
            "\u001b[2K     \u001b[90m━━━━━━━━━━━━━━━━━━━━━━━━━━━━━━━━━━━━━━━━\u001b[0m \u001b[32m61.0/61.0 kB\u001b[0m \u001b[31m2.5 MB/s\u001b[0m eta \u001b[36m0:00:00\u001b[0m\n",
            "\u001b[?25hCollecting scipy<1.14.0,>=1.7.0 (from gensim)\n",
            "  Downloading scipy-1.13.1-cp311-cp311-manylinux_2_17_x86_64.manylinux2014_x86_64.whl.metadata (60 kB)\n",
            "\u001b[2K     \u001b[90m━━━━━━━━━━━━━━━━━━━━━━━━━━━━━━━━━━━━━━━━\u001b[0m \u001b[32m60.6/60.6 kB\u001b[0m \u001b[31m2.4 MB/s\u001b[0m eta \u001b[36m0:00:00\u001b[0m\n",
            "\u001b[?25hRequirement already satisfied: smart-open>=1.8.1 in /usr/local/lib/python3.11/dist-packages (from gensim) (7.1.0)\n",
            "Requirement already satisfied: wrapt in /usr/local/lib/python3.11/dist-packages (from smart-open>=1.8.1->gensim) (1.17.2)\n",
            "Downloading gensim-4.3.3-cp311-cp311-manylinux_2_17_x86_64.manylinux2014_x86_64.whl (26.7 MB)\n",
            "\u001b[2K   \u001b[90m━━━━━━━━━━━━━━━━━━━━━━━━━━━━━━━━━━━━━━━━\u001b[0m \u001b[32m26.7/26.7 MB\u001b[0m \u001b[31m46.4 MB/s\u001b[0m eta \u001b[36m0:00:00\u001b[0m\n",
            "\u001b[?25hDownloading numpy-1.26.4-cp311-cp311-manylinux_2_17_x86_64.manylinux2014_x86_64.whl (18.3 MB)\n",
            "\u001b[2K   \u001b[90m━━━━━━━━━━━━━━━━━━━━━━━━━━━━━━━━━━━━━━━━\u001b[0m \u001b[32m18.3/18.3 MB\u001b[0m \u001b[31m81.6 MB/s\u001b[0m eta \u001b[36m0:00:00\u001b[0m\n",
            "\u001b[?25hDownloading scipy-1.13.1-cp311-cp311-manylinux_2_17_x86_64.manylinux2014_x86_64.whl (38.6 MB)\n",
            "\u001b[2K   \u001b[90m━━━━━━━━━━━━━━━━━━━━━━━━━━━━━━━━━━━━━━━━\u001b[0m \u001b[32m38.6/38.6 MB\u001b[0m \u001b[31m15.6 MB/s\u001b[0m eta \u001b[36m0:00:00\u001b[0m\n",
            "\u001b[?25hInstalling collected packages: numpy, scipy, gensim\n",
            "  Attempting uninstall: numpy\n",
            "    Found existing installation: numpy 2.0.2\n",
            "    Uninstalling numpy-2.0.2:\n",
            "      Successfully uninstalled numpy-2.0.2\n",
            "  Attempting uninstall: scipy\n",
            "    Found existing installation: scipy 1.14.1\n",
            "    Uninstalling scipy-1.14.1:\n",
            "      Successfully uninstalled scipy-1.14.1\n",
            "Successfully installed gensim-4.3.3 numpy-1.26.4 scipy-1.13.1\n"
          ]
        }
      ]
    },
    {
      "cell_type": "code",
      "source": [
        "!pip install --upgrade numpy"
      ],
      "metadata": {
        "colab": {
          "base_uri": "https://localhost:8080/"
        },
        "id": "Qi3GGvHu2ZC8",
        "outputId": "b972328b-efd9-4205-bbb0-4f91f8847135"
      },
      "execution_count": 7,
      "outputs": [
        {
          "output_type": "stream",
          "name": "stdout",
          "text": [
            "Requirement already satisfied: numpy in /usr/local/lib/python3.11/dist-packages (2.2.4)\n"
          ]
        }
      ]
    },
    {
      "cell_type": "code",
      "source": [
        "!pip install --upgrade gensim"
      ],
      "metadata": {
        "colab": {
          "base_uri": "https://localhost:8080/"
        },
        "id": "htTGTKYl2fqb",
        "outputId": "af64fe2f-f59b-4ecf-9827-29f4344764dd"
      },
      "execution_count": 10,
      "outputs": [
        {
          "output_type": "stream",
          "name": "stdout",
          "text": [
            "Requirement already satisfied: gensim in /usr/local/lib/python3.11/dist-packages (4.3.3)\n",
            "Requirement already satisfied: numpy<2.0,>=1.18.5 in /usr/local/lib/python3.11/dist-packages (from gensim) (1.26.4)\n",
            "Requirement already satisfied: scipy<1.14.0,>=1.7.0 in /usr/local/lib/python3.11/dist-packages (from gensim) (1.13.1)\n",
            "Requirement already satisfied: smart-open>=1.8.1 in /usr/local/lib/python3.11/dist-packages (from gensim) (7.1.0)\n",
            "Requirement already satisfied: wrapt in /usr/local/lib/python3.11/dist-packages (from smart-open>=1.8.1->gensim) (1.17.2)\n"
          ]
        }
      ]
    },
    {
      "cell_type": "code",
      "source": [
        "# Import Library\n",
        "import googleapiclient.discovery\n",
        "import pandas as pd\n",
        "import time\n",
        "import random\n",
        "import re\n",
        "import string\n",
        "import tensorflow as tf\n",
        "import numpy as np\n",
        "from tensorflow.keras.layers import Embedding, LSTM, Dense, Dropout, Conv1D, GlobalMaxPooling1D, Bidirectional, BatchNormalization\n",
        "from sklearn.metrics import classification_report, accuracy_score\n",
        "from tensorflow.keras.preprocessing.text import Tokenizer\n",
        "from tensorflow.keras.preprocessing.sequence import pad_sequences\n",
        "from tensorflow.keras.models import Sequential\n",
        "from tensorflow.keras.layers import Embedding, LSTM, GRU, Conv1D, GlobalMaxPooling1D, Dense, Dropout, Bidirectional, BatchNormalization\n",
        "from sklearn.model_selection import train_test_split\n",
        "from sklearn.preprocessing import LabelEncoder\n",
        "from imblearn.over_sampling import SMOTE\n",
        "from gensim.models import Word2Vec"
      ],
      "metadata": {
        "id": "I6Pw9OLlHXG7"
      },
      "execution_count": 1,
      "outputs": []
    },
    {
      "cell_type": "markdown",
      "source": [
        "# Data Preprocessing dan Pembersihan"
      ],
      "metadata": {
        "id": "ENIdk__BiOJT"
      }
    },
    {
      "cell_type": "code",
      "source": [
        "# Membaca dan Menampilkan informasi dataset\n",
        "dataset = pd.read_csv(\"NDsO1LT_0lw_youtube_comments.csv\")\n",
        "print(\"Jumlah data:\", len(dataset))"
      ],
      "metadata": {
        "colab": {
          "base_uri": "https://localhost:8080/"
        },
        "id": "wtg0gpXcjEH8",
        "outputId": "dc0718f4-8d93-4709-ea9b-0b8bc74f23ee"
      },
      "execution_count": 4,
      "outputs": [
        {
          "output_type": "stream",
          "name": "stdout",
          "text": [
            "Jumlah data: 85028\n"
          ]
        }
      ]
    },
    {
      "cell_type": "code",
      "source": [
        "print(dataset.head())"
      ],
      "metadata": {
        "colab": {
          "base_uri": "https://localhost:8080/"
        },
        "id": "4ADwNxWVjWUx",
        "outputId": "b6ebc806-8743-459f-ef39-71f3e901fe67"
      },
      "execution_count": 3,
      "outputs": [
        {
          "output_type": "stream",
          "name": "stdout",
          "text": [
            "             username                                               text  \\\n",
            "0            @MrBeast  BEAST GAMES FINALE DROPS FEBRUARY 13TH! GO WAT...   \n",
            "1     @SultanRayyan-7                          Saya orang Indonesia 🇮🇩🇮🇩   \n",
            "2  @MohamadrezaRezayy  مستر بیست عزیز ❤ لطفا دوبله فارسی این ویدیو را...   \n",
            "3       @ILoveyou-954  বাংলাদেশ আসবেন কবে পাবনা জেলার কিছু দেখতে চাই ...   \n",
            "4     @Moneymakerarab  This is for girls listen to Dalida - Helwa ya ...   \n",
            "\n",
            "   likes          published_at  \n",
            "0  54600  2025-02-08T16:59:31Z  \n",
            "1      0  2025-03-19T21:51:42Z  \n",
            "2      0  2025-03-19T21:43:03Z  \n",
            "3      0  2025-03-19T21:34:32Z  \n",
            "4      0  2025-03-19T21:20:21Z  \n"
          ]
        }
      ]
    },
    {
      "cell_type": "code",
      "source": [
        "print(\"Informasi Dataset:\")\n",
        "print(dataset.info())"
      ],
      "metadata": {
        "colab": {
          "base_uri": "https://localhost:8080/"
        },
        "id": "gD1WeBk3jj4g",
        "outputId": "caedb42e-e284-4ffe-adee-defeb1a284e8"
      },
      "execution_count": 5,
      "outputs": [
        {
          "output_type": "stream",
          "name": "stdout",
          "text": [
            "Informasi Dataset:\n",
            "<class 'pandas.core.frame.DataFrame'>\n",
            "RangeIndex: 85028 entries, 0 to 85027\n",
            "Data columns (total 4 columns):\n",
            " #   Column        Non-Null Count  Dtype \n",
            "---  ------        --------------  ----- \n",
            " 0   username      84982 non-null  object\n",
            " 1   text          85028 non-null  object\n",
            " 2   likes         85028 non-null  int64 \n",
            " 3   published_at  85028 non-null  object\n",
            "dtypes: int64(1), object(3)\n",
            "memory usage: 2.6+ MB\n",
            "None\n"
          ]
        }
      ]
    },
    {
      "cell_type": "code",
      "source": [
        "print('\\nStatistik Deskriptif:')\n",
        "print(dataset.describe())"
      ],
      "metadata": {
        "colab": {
          "base_uri": "https://localhost:8080/"
        },
        "id": "ilYCEbrKjv5n",
        "outputId": "49cb3b12-8a20-4d1c-9a5b-bee0a48bc5c0"
      },
      "execution_count": 6,
      "outputs": [
        {
          "output_type": "stream",
          "name": "stdout",
          "text": [
            "\n",
            "Statistik Deskriptif:\n",
            "               likes\n",
            "count   85028.000000\n",
            "mean        9.727654\n",
            "std       744.702565\n",
            "min         0.000000\n",
            "25%         0.000000\n",
            "50%         0.000000\n",
            "75%         1.000000\n",
            "max    167348.000000\n"
          ]
        }
      ]
    },
    {
      "cell_type": "code",
      "source": [
        "# Mengecek jumlah missing values di setiap kolom\n",
        "print(dataset.isnull().sum())"
      ],
      "metadata": {
        "colab": {
          "base_uri": "https://localhost:8080/"
        },
        "id": "GEaqaxe4j6Li",
        "outputId": "d45cef3e-5270-43d0-a297-d7a235419ec9"
      },
      "execution_count": 7,
      "outputs": [
        {
          "output_type": "stream",
          "name": "stdout",
          "text": [
            "username        46\n",
            "text             0\n",
            "likes            0\n",
            "published_at     0\n",
            "dtype: int64\n"
          ]
        }
      ]
    },
    {
      "cell_type": "code",
      "source": [
        "# Menghapus nilai kosong\n",
        "dataset.dropna(inplace=True)"
      ],
      "metadata": {
        "id": "ZTNC1ghpkkpa"
      },
      "execution_count": 8,
      "outputs": []
    },
    {
      "cell_type": "code",
      "source": [
        "# Menghapus duplikasi\n",
        "dataset.drop_duplicates(subset=['text'], inplace=True)"
      ],
      "metadata": {
        "id": "b5HYvwY0kn00"
      },
      "execution_count": 9,
      "outputs": []
    },
    {
      "cell_type": "code",
      "source": [
        "# Pembersihan teks\n",
        "def clean_text(text):\n",
        "    text = text.lower()\n",
        "    text = ''.join(c for c in text if c.isalnum() or c.isspace())\n",
        "    return text\n",
        "\n",
        "dataset['cleaned_text'] = dataset['text'].apply(clean_text)\n",
        "print(\"Data setelah pembersihan:\")\n",
        "print(dataset.head())"
      ],
      "metadata": {
        "colab": {
          "base_uri": "https://localhost:8080/"
        },
        "id": "-Mi_m65UkrwQ",
        "outputId": "a813ffbc-33b0-4763-ebff-66dddfb1c609"
      },
      "execution_count": 10,
      "outputs": [
        {
          "output_type": "stream",
          "name": "stdout",
          "text": [
            "Data setelah pembersihan:\n",
            "             username                                               text  \\\n",
            "0            @MrBeast  BEAST GAMES FINALE DROPS FEBRUARY 13TH! GO WAT...   \n",
            "1     @SultanRayyan-7                          Saya orang Indonesia 🇮🇩🇮🇩   \n",
            "2  @MohamadrezaRezayy  مستر بیست عزیز ❤ لطفا دوبله فارسی این ویدیو را...   \n",
            "3       @ILoveyou-954  বাংলাদেশ আসবেন কবে পাবনা জেলার কিছু দেখতে চাই ...   \n",
            "4     @Moneymakerarab  This is for girls listen to Dalida - Helwa ya ...   \n",
            "\n",
            "   likes          published_at  \\\n",
            "0  54600  2025-02-08T16:59:31Z   \n",
            "1      0  2025-03-19T21:51:42Z   \n",
            "2      0  2025-03-19T21:43:03Z   \n",
            "3      0  2025-03-19T21:34:32Z   \n",
            "4      0  2025-03-19T21:20:21Z   \n",
            "\n",
            "                                        cleaned_text  \n",
            "0  beast games finale drops february 13th go watc...  \n",
            "1                              saya orang indonesia   \n",
            "2  مستر بیست عزیز  لطفا دوبله فارسی این ویدیو را ...  \n",
            "3                    বলদশ আসবন কব পবন জলর কছ দখত চই   \n",
            "4  this is for girls listen to dalida  helwa ya b...  \n"
          ]
        }
      ]
    },
    {
      "cell_type": "code",
      "source": [
        "# Mengecek kembali jumlah missing values di setiap kolom\n",
        "print(dataset.isnull().sum())"
      ],
      "metadata": {
        "colab": {
          "base_uri": "https://localhost:8080/"
        },
        "id": "ocQOJSqMk5Nv",
        "outputId": "13973f30-4077-491e-b644-fd593dcd8bfd"
      },
      "execution_count": 11,
      "outputs": [
        {
          "output_type": "stream",
          "name": "stdout",
          "text": [
            "username        0\n",
            "text            0\n",
            "likes           0\n",
            "published_at    0\n",
            "cleaned_text    0\n",
            "dtype: int64\n"
          ]
        }
      ]
    },
    {
      "cell_type": "markdown",
      "source": [
        "# **2. Ekstraksi Fitur dan Pelabelan Data**"
      ],
      "metadata": {
        "id": "nBwOOPI5lASL"
      }
    },
    {
      "cell_type": "markdown",
      "source": [
        "Metode yang digunakan bebas sesuai dengan preferensi masing-masing peserta. Tahapan ini penting untuk mempersiapkan data sehingga dapat diolah lebih lanjut dalam proses pelatihan model."
      ],
      "metadata": {
        "id": "eJv-MtsUlHzI"
      }
    },
    {
      "cell_type": "code",
      "source": [
        "# Melabeli komentar secara manual (positif, netral, negatif)\n",
        "def label_comment(text):\n",
        "    if any(word in text for word in [\"love\", \"great\", \"awesome\", \"good\", \"nice\", \"amazing\", \"fantastic\"]):\n",
        "        return \"positif\"\n",
        "    elif any(word in text for word in [\"hate\", \"bad\", \"awful\", \"worst\", \"terrible\", \"disgusting\", \"boring\"]):\n",
        "        return \"negatif\"\n",
        "    else:\n",
        "        return \"netral\"\n",
        "\n",
        "dataset['label'] = dataset['cleaned_text'].apply(label_comment)\n",
        "print(\"Distribusi label:\")\n",
        "print(dataset['label'].value_counts())"
      ],
      "metadata": {
        "colab": {
          "base_uri": "https://localhost:8080/"
        },
        "id": "O7Uvoet4lI9T",
        "outputId": "28366c7b-4fbc-4cf0-cf17-b403bd50ad39"
      },
      "execution_count": 12,
      "outputs": [
        {
          "output_type": "stream",
          "name": "stdout",
          "text": [
            "Distribusi label:\n",
            "label\n",
            "netral     63766\n",
            "positif     4728\n",
            "negatif       69\n",
            "Name: count, dtype: int64\n"
          ]
        }
      ]
    },
    {
      "cell_type": "code",
      "source": [
        "# Encoding label\n",
        "label_encoder = LabelEncoder()\n",
        "dataset['label_encoded'] = label_encoder.fit_transform(dataset['label'])"
      ],
      "metadata": {
        "id": "IqZS3KMplvFC"
      },
      "execution_count": 13,
      "outputs": []
    },
    {
      "cell_type": "code",
      "source": [
        "# Tokenizer dan Padding\n",
        "tokenizer = Tokenizer(num_words=10000, oov_token=\"<OOV>\")\n",
        "tokenizer.fit_on_texts(dataset['cleaned_text'])\n",
        "sequences = tokenizer.texts_to_sequences(dataset['cleaned_text'])\n",
        "padded = pad_sequences(sequences, maxlen=100, padding='post')"
      ],
      "metadata": {
        "id": "TMmfeaBX5Rw9"
      },
      "execution_count": 16,
      "outputs": []
    },
    {
      "cell_type": "code",
      "source": [
        "# Mengatasi Ketidakseimbangan Data dengan SMOTE\n",
        "smote = SMOTE(random_state=42)\n",
        "X_resampled, y_resampled = smote.fit_resample(padded, dataset['label_encoded'])"
      ],
      "metadata": {
        "id": "YNBGDkiA5auJ"
      },
      "execution_count": 17,
      "outputs": []
    },
    {
      "cell_type": "markdown",
      "source": [
        "# **3. Pembangunan Model Deep Learning**"
      ],
      "metadata": {
        "id": "97mjHYpAmZKf"
      }
    },
    {
      "cell_type": "markdown",
      "source": [
        "Pilihan algoritma pelatihan ini haruslah sesuai dengan tujuan analisis sentimen yang ingin dicapai."
      ],
      "metadata": {
        "id": "lXa9RkwLmd-C"
      }
    },
    {
      "cell_type": "markdown",
      "source": [
        "# Skema 2: CNN dengan Word2Vec (80/20)"
      ],
      "metadata": {
        "id": "4Ps4q2FepCEE"
      }
    },
    {
      "cell_type": "markdown",
      "source": [
        "**Algoritma:** Convolutional Neural Network (CNN)\n",
        "\n",
        "**Ekstraksi Fitur:** Word2Vec\n",
        "\n",
        "**Alasan Pemilihan:**\n",
        "- CNN dikenal dalam pengenalan pola spasial, dan bisa dimanfaatkan untuk menangkap pola lokal pada teks (misalnya n-grams).\n",
        "- Word2Vec menghasilkan representasi vektor dari kata-kata dengan mempertimbangkan hubungan semantik dan sintaksis.\n",
        "- Kombinasi CNN + Word2Vec memungkinkan model mempelajari fitur spasial dari representasi kata yang lebih kaya."
      ],
      "metadata": {
        "id": "o_7WfFFd90Pk"
      }
    },
    {
      "cell_type": "code",
      "source": [
        "# Membagi data menjadi training dan testing\n",
        "X_train, X_test, y_train, y_test = train_test_split(X_resampled, y_resampled, test_size=0.2, random_state=42)"
      ],
      "metadata": {
        "id": "IJdEEgQt5e1v"
      },
      "execution_count": 18,
      "outputs": []
    },
    {
      "cell_type": "code",
      "source": [
        "# Membuat model Word2Vec menggunakan teks bersih\n",
        "word2vec = Word2Vec(sentences=[text.split() for text in dataset['cleaned_text']], vector_size=100, window=5, min_count=1)"
      ],
      "metadata": {
        "id": "8CwJhTmB0GJo"
      },
      "execution_count": 19,
      "outputs": []
    },
    {
      "cell_type": "code",
      "source": [
        "# Menyiapkan embedding matrix\n",
        "embedding_matrix = np.zeros((len(tokenizer.word_index) + 1, 100))\n",
        "for word, i in tokenizer.word_index.items():\n",
        "    if word in word2vec.wv:\n",
        "        embedding_matrix[i] = word2vec.wv[word]"
      ],
      "metadata": {
        "id": "QkmrFn7v0LOt"
      },
      "execution_count": 22,
      "outputs": []
    },
    {
      "cell_type": "code",
      "source": [
        "# Membangun model CNN\n",
        "model2 = Sequential([\n",
        "    Embedding(len(tokenizer.word_index) + 1, 100, weights=[embedding_matrix], input_length=100, trainable=False),\n",
        "    Conv1D(128, 5, activation='relu'),\n",
        "    GlobalMaxPooling1D(),\n",
        "    Dense(64, activation='relu'),\n",
        "    Dropout(0.5),\n",
        "    Dense(3, activation='softmax')\n",
        "])"
      ],
      "metadata": {
        "id": "kUuO0CUTpN6Z"
      },
      "execution_count": 23,
      "outputs": []
    },
    {
      "cell_type": "code",
      "source": [
        "model2.compile(loss='sparse_categorical_crossentropy', optimizer='adam', metrics=['accuracy'])"
      ],
      "metadata": {
        "id": "Tkl2QjJNBDEl"
      },
      "execution_count": 24,
      "outputs": []
    },
    {
      "cell_type": "code",
      "source": [
        "model2.fit(X_train, y_train, epochs=60, validation_data=(X_test, y_test), batch_size=64)"
      ],
      "metadata": {
        "id": "YgQbQ3LjBC4o",
        "colab": {
          "base_uri": "https://localhost:8080/"
        },
        "outputId": "56ba8679-d6a9-4bba-b273-a98440a7612e"
      },
      "execution_count": 34,
      "outputs": [
        {
          "output_type": "stream",
          "name": "stdout",
          "text": [
            "Epoch 1/60\n",
            "\u001b[1m2392/2392\u001b[0m \u001b[32m━━━━━━━━━━━━━━━━━━━━\u001b[0m\u001b[37m\u001b[0m \u001b[1m108s\u001b[0m 45ms/step - accuracy: 0.9189 - loss: 0.2058 - val_accuracy: 0.9087 - val_loss: 0.2575\n",
            "Epoch 2/60\n",
            "\u001b[1m2392/2392\u001b[0m \u001b[32m━━━━━━━━━━━━━━━━━━━━\u001b[0m\u001b[37m\u001b[0m \u001b[1m107s\u001b[0m 45ms/step - accuracy: 0.9204 - loss: 0.2038 - val_accuracy: 0.9056 - val_loss: 0.2664\n",
            "Epoch 3/60\n",
            "\u001b[1m2392/2392\u001b[0m \u001b[32m━━━━━━━━━━━━━━━━━━━━\u001b[0m\u001b[37m\u001b[0m \u001b[1m145s\u001b[0m 46ms/step - accuracy: 0.9185 - loss: 0.2075 - val_accuracy: 0.9114 - val_loss: 0.2621\n",
            "Epoch 4/60\n",
            "\u001b[1m2392/2392\u001b[0m \u001b[32m━━━━━━━━━━━━━━━━━━━━\u001b[0m\u001b[37m\u001b[0m \u001b[1m141s\u001b[0m 46ms/step - accuracy: 0.9190 - loss: 0.2045 - val_accuracy: 0.9107 - val_loss: 0.2479\n",
            "Epoch 5/60\n",
            "\u001b[1m2392/2392\u001b[0m \u001b[32m━━━━━━━━━━━━━━━━━━━━\u001b[0m\u001b[37m\u001b[0m \u001b[1m142s\u001b[0m 46ms/step - accuracy: 0.9209 - loss: 0.2009 - val_accuracy: 0.9092 - val_loss: 0.2787\n",
            "Epoch 6/60\n",
            "\u001b[1m2392/2392\u001b[0m \u001b[32m━━━━━━━━━━━━━━━━━━━━\u001b[0m\u001b[37m\u001b[0m \u001b[1m108s\u001b[0m 45ms/step - accuracy: 0.9206 - loss: 0.2013 - val_accuracy: 0.9094 - val_loss: 0.2597\n",
            "Epoch 7/60\n",
            "\u001b[1m2392/2392\u001b[0m \u001b[32m━━━━━━━━━━━━━━━━━━━━\u001b[0m\u001b[37m\u001b[0m \u001b[1m142s\u001b[0m 45ms/step - accuracy: 0.9194 - loss: 0.2045 - val_accuracy: 0.9063 - val_loss: 0.2656\n",
            "Epoch 8/60\n",
            "\u001b[1m2392/2392\u001b[0m \u001b[32m━━━━━━━━━━━━━━━━━━━━\u001b[0m\u001b[37m\u001b[0m \u001b[1m143s\u001b[0m 46ms/step - accuracy: 0.9195 - loss: 0.2028 - val_accuracy: 0.9011 - val_loss: 0.2817\n",
            "Epoch 9/60\n",
            "\u001b[1m2392/2392\u001b[0m \u001b[32m━━━━━━━━━━━━━━━━━━━━\u001b[0m\u001b[37m\u001b[0m \u001b[1m140s\u001b[0m 45ms/step - accuracy: 0.9205 - loss: 0.2029 - val_accuracy: 0.9085 - val_loss: 0.2711\n",
            "Epoch 10/60\n",
            "\u001b[1m2392/2392\u001b[0m \u001b[32m━━━━━━━━━━━━━━━━━━━━\u001b[0m\u001b[37m\u001b[0m \u001b[1m143s\u001b[0m 45ms/step - accuracy: 0.9212 - loss: 0.2014 - val_accuracy: 0.9102 - val_loss: 0.2644\n",
            "Epoch 11/60\n",
            "\u001b[1m2392/2392\u001b[0m \u001b[32m━━━━━━━━━━━━━━━━━━━━\u001b[0m\u001b[37m\u001b[0m \u001b[1m108s\u001b[0m 45ms/step - accuracy: 0.9195 - loss: 0.2031 - val_accuracy: 0.9040 - val_loss: 0.2822\n",
            "Epoch 12/60\n",
            "\u001b[1m2392/2392\u001b[0m \u001b[32m━━━━━━━━━━━━━━━━━━━━\u001b[0m\u001b[37m\u001b[0m \u001b[1m143s\u001b[0m 46ms/step - accuracy: 0.9205 - loss: 0.2005 - val_accuracy: 0.9069 - val_loss: 0.2644\n",
            "Epoch 13/60\n",
            "\u001b[1m2392/2392\u001b[0m \u001b[32m━━━━━━━━━━━━━━━━━━━━\u001b[0m\u001b[37m\u001b[0m \u001b[1m143s\u001b[0m 46ms/step - accuracy: 0.9216 - loss: 0.2020 - val_accuracy: 0.9119 - val_loss: 0.2591\n",
            "Epoch 14/60\n",
            "\u001b[1m2392/2392\u001b[0m \u001b[32m━━━━━━━━━━━━━━━━━━━━\u001b[0m\u001b[37m\u001b[0m \u001b[1m142s\u001b[0m 46ms/step - accuracy: 0.9196 - loss: 0.2012 - val_accuracy: 0.9070 - val_loss: 0.2660\n",
            "Epoch 15/60\n",
            "\u001b[1m2392/2392\u001b[0m \u001b[32m━━━━━━━━━━━━━━━━━━━━\u001b[0m\u001b[37m\u001b[0m \u001b[1m111s\u001b[0m 46ms/step - accuracy: 0.9211 - loss: 0.1983 - val_accuracy: 0.9119 - val_loss: 0.2552\n",
            "Epoch 16/60\n",
            "\u001b[1m2392/2392\u001b[0m \u001b[32m━━━━━━━━━━━━━━━━━━━━\u001b[0m\u001b[37m\u001b[0m \u001b[1m138s\u001b[0m 45ms/step - accuracy: 0.9211 - loss: 0.2012 - val_accuracy: 0.9091 - val_loss: 0.2741\n",
            "Epoch 17/60\n",
            "\u001b[1m2392/2392\u001b[0m \u001b[32m━━━━━━━━━━━━━━━━━━━━\u001b[0m\u001b[37m\u001b[0m \u001b[1m143s\u001b[0m 45ms/step - accuracy: 0.9227 - loss: 0.1973 - val_accuracy: 0.9128 - val_loss: 0.2551\n",
            "Epoch 18/60\n",
            "\u001b[1m2392/2392\u001b[0m \u001b[32m━━━━━━━━━━━━━━━━━━━━\u001b[0m\u001b[37m\u001b[0m \u001b[1m145s\u001b[0m 46ms/step - accuracy: 0.9218 - loss: 0.1954 - val_accuracy: 0.9081 - val_loss: 0.2601\n",
            "Epoch 19/60\n",
            "\u001b[1m2392/2392\u001b[0m \u001b[32m━━━━━━━━━━━━━━━━━━━━\u001b[0m\u001b[37m\u001b[0m \u001b[1m138s\u001b[0m 45ms/step - accuracy: 0.9226 - loss: 0.1967 - val_accuracy: 0.9109 - val_loss: 0.2676\n",
            "Epoch 20/60\n",
            "\u001b[1m2392/2392\u001b[0m \u001b[32m━━━━━━━━━━━━━━━━━━━━\u001b[0m\u001b[37m\u001b[0m \u001b[1m109s\u001b[0m 45ms/step - accuracy: 0.9224 - loss: 0.1957 - val_accuracy: 0.9106 - val_loss: 0.2670\n",
            "Epoch 21/60\n",
            "\u001b[1m2392/2392\u001b[0m \u001b[32m━━━━━━━━━━━━━━━━━━━━\u001b[0m\u001b[37m\u001b[0m \u001b[1m142s\u001b[0m 46ms/step - accuracy: 0.9219 - loss: 0.1983 - val_accuracy: 0.9110 - val_loss: 0.2645\n",
            "Epoch 22/60\n",
            "\u001b[1m2392/2392\u001b[0m \u001b[32m━━━━━━━━━━━━━━━━━━━━\u001b[0m\u001b[37m\u001b[0m \u001b[1m140s\u001b[0m 45ms/step - accuracy: 0.9229 - loss: 0.1939 - val_accuracy: 0.9087 - val_loss: 0.2852\n",
            "Epoch 23/60\n",
            "\u001b[1m2392/2392\u001b[0m \u001b[32m━━━━━━━━━━━━━━━━━━━━\u001b[0m\u001b[37m\u001b[0m \u001b[1m143s\u001b[0m 45ms/step - accuracy: 0.9237 - loss: 0.1941 - val_accuracy: 0.9093 - val_loss: 0.2719\n",
            "Epoch 24/60\n",
            "\u001b[1m2392/2392\u001b[0m \u001b[32m━━━━━━━━━━━━━━━━━━━━\u001b[0m\u001b[37m\u001b[0m \u001b[1m141s\u001b[0m 45ms/step - accuracy: 0.9221 - loss: 0.1962 - val_accuracy: 0.9107 - val_loss: 0.2661\n",
            "Epoch 25/60\n",
            "\u001b[1m2392/2392\u001b[0m \u001b[32m━━━━━━━━━━━━━━━━━━━━\u001b[0m\u001b[37m\u001b[0m \u001b[1m144s\u001b[0m 46ms/step - accuracy: 0.9228 - loss: 0.1931 - val_accuracy: 0.9117 - val_loss: 0.2688\n",
            "Epoch 26/60\n",
            "\u001b[1m2392/2392\u001b[0m \u001b[32m━━━━━━━━━━━━━━━━━━━━\u001b[0m\u001b[37m\u001b[0m \u001b[1m141s\u001b[0m 45ms/step - accuracy: 0.9240 - loss: 0.1926 - val_accuracy: 0.9123 - val_loss: 0.2547\n",
            "Epoch 27/60\n",
            "\u001b[1m2392/2392\u001b[0m \u001b[32m━━━━━━━━━━━━━━━━━━━━\u001b[0m\u001b[37m\u001b[0m \u001b[1m107s\u001b[0m 45ms/step - accuracy: 0.9241 - loss: 0.1923 - val_accuracy: 0.9036 - val_loss: 0.3175\n",
            "Epoch 28/60\n",
            "\u001b[1m2392/2392\u001b[0m \u001b[32m━━━━━━━━━━━━━━━━━━━━\u001b[0m\u001b[37m\u001b[0m \u001b[1m109s\u001b[0m 45ms/step - accuracy: 0.9236 - loss: 0.1936 - val_accuracy: 0.9072 - val_loss: 0.2688\n",
            "Epoch 29/60\n",
            "\u001b[1m2392/2392\u001b[0m \u001b[32m━━━━━━━━━━━━━━━━━━━━\u001b[0m\u001b[37m\u001b[0m \u001b[1m143s\u001b[0m 46ms/step - accuracy: 0.9246 - loss: 0.1907 - val_accuracy: 0.9130 - val_loss: 0.2557\n",
            "Epoch 30/60\n",
            "\u001b[1m2392/2392\u001b[0m \u001b[32m━━━━━━━━━━━━━━━━━━━━\u001b[0m\u001b[37m\u001b[0m \u001b[1m141s\u001b[0m 45ms/step - accuracy: 0.9246 - loss: 0.1893 - val_accuracy: 0.9108 - val_loss: 0.2728\n",
            "Epoch 31/60\n",
            "\u001b[1m2392/2392\u001b[0m \u001b[32m━━━━━━━━━━━━━━━━━━━━\u001b[0m\u001b[37m\u001b[0m \u001b[1m142s\u001b[0m 46ms/step - accuracy: 0.9266 - loss: 0.1898 - val_accuracy: 0.9052 - val_loss: 0.2859\n",
            "Epoch 32/60\n",
            "\u001b[1m2392/2392\u001b[0m \u001b[32m━━━━━━━━━━━━━━━━━━━━\u001b[0m\u001b[37m\u001b[0m \u001b[1m109s\u001b[0m 45ms/step - accuracy: 0.9243 - loss: 0.1936 - val_accuracy: 0.9091 - val_loss: 0.2589\n",
            "Epoch 33/60\n",
            "\u001b[1m2392/2392\u001b[0m \u001b[32m━━━━━━━━━━━━━━━━━━━━\u001b[0m\u001b[37m\u001b[0m \u001b[1m140s\u001b[0m 45ms/step - accuracy: 0.9233 - loss: 0.1943 - val_accuracy: 0.8997 - val_loss: 0.3133\n",
            "Epoch 34/60\n",
            "\u001b[1m2392/2392\u001b[0m \u001b[32m━━━━━━━━━━━━━━━━━━━━\u001b[0m\u001b[37m\u001b[0m \u001b[1m109s\u001b[0m 46ms/step - accuracy: 0.9235 - loss: 0.1941 - val_accuracy: 0.9143 - val_loss: 0.2541\n",
            "Epoch 35/60\n",
            "\u001b[1m2392/2392\u001b[0m \u001b[32m━━━━━━━━━━━━━━━━━━━━\u001b[0m\u001b[37m\u001b[0m \u001b[1m141s\u001b[0m 45ms/step - accuracy: 0.9255 - loss: 0.1899 - val_accuracy: 0.9108 - val_loss: 0.2674\n",
            "Epoch 36/60\n",
            "\u001b[1m2392/2392\u001b[0m \u001b[32m━━━━━━━━━━━━━━━━━━━━\u001b[0m\u001b[37m\u001b[0m \u001b[1m155s\u001b[0m 51ms/step - accuracy: 0.9241 - loss: 0.1917 - val_accuracy: 0.9111 - val_loss: 0.2675\n",
            "Epoch 37/60\n",
            "\u001b[1m2392/2392\u001b[0m \u001b[32m━━━━━━━━━━━━━━━━━━━━\u001b[0m\u001b[37m\u001b[0m \u001b[1m131s\u001b[0m 46ms/step - accuracy: 0.9229 - loss: 0.1927 - val_accuracy: 0.9114 - val_loss: 0.2611\n",
            "Epoch 38/60\n",
            "\u001b[1m2392/2392\u001b[0m \u001b[32m━━━━━━━━━━━━━━━━━━━━\u001b[0m\u001b[37m\u001b[0m \u001b[1m109s\u001b[0m 46ms/step - accuracy: 0.9255 - loss: 0.1877 - val_accuracy: 0.9096 - val_loss: 0.2688\n",
            "Epoch 39/60\n",
            "\u001b[1m2392/2392\u001b[0m \u001b[32m━━━━━━━━━━━━━━━━━━━━\u001b[0m\u001b[37m\u001b[0m \u001b[1m143s\u001b[0m 46ms/step - accuracy: 0.9244 - loss: 0.1892 - val_accuracy: 0.9120 - val_loss: 0.2700\n",
            "Epoch 40/60\n",
            "\u001b[1m2392/2392\u001b[0m \u001b[32m━━━━━━━━━━━━━━━━━━━━\u001b[0m\u001b[37m\u001b[0m \u001b[1m140s\u001b[0m 45ms/step - accuracy: 0.9249 - loss: 0.1877 - val_accuracy: 0.9129 - val_loss: 0.2808\n",
            "Epoch 41/60\n",
            "\u001b[1m2392/2392\u001b[0m \u001b[32m━━━━━━━━━━━━━━━━━━━━\u001b[0m\u001b[37m\u001b[0m \u001b[1m144s\u001b[0m 46ms/step - accuracy: 0.9252 - loss: 0.1888 - val_accuracy: 0.9066 - val_loss: 0.2907\n",
            "Epoch 42/60\n",
            "\u001b[1m2392/2392\u001b[0m \u001b[32m━━━━━━━━━━━━━━━━━━━━\u001b[0m\u001b[37m\u001b[0m \u001b[1m141s\u001b[0m 46ms/step - accuracy: 0.9253 - loss: 0.1879 - val_accuracy: 0.9129 - val_loss: 0.2616\n",
            "Epoch 43/60\n",
            "\u001b[1m2392/2392\u001b[0m \u001b[32m━━━━━━━━━━━━━━━━━━━━\u001b[0m\u001b[37m\u001b[0m \u001b[1m141s\u001b[0m 45ms/step - accuracy: 0.9246 - loss: 0.1885 - val_accuracy: 0.9126 - val_loss: 0.2725\n",
            "Epoch 44/60\n",
            "\u001b[1m2392/2392\u001b[0m \u001b[32m━━━━━━━━━━━━━━━━━━━━\u001b[0m\u001b[37m\u001b[0m \u001b[1m143s\u001b[0m 46ms/step - accuracy: 0.9268 - loss: 0.1846 - val_accuracy: 0.9118 - val_loss: 0.2708\n",
            "Epoch 45/60\n",
            "\u001b[1m2392/2392\u001b[0m \u001b[32m━━━━━━━━━━━━━━━━━━━━\u001b[0m\u001b[37m\u001b[0m \u001b[1m109s\u001b[0m 46ms/step - accuracy: 0.9263 - loss: 0.1877 - val_accuracy: 0.9092 - val_loss: 0.2711\n",
            "Epoch 46/60\n",
            "\u001b[1m2392/2392\u001b[0m \u001b[32m━━━━━━━━━━━━━━━━━━━━\u001b[0m\u001b[37m\u001b[0m \u001b[1m111s\u001b[0m 46ms/step - accuracy: 0.9258 - loss: 0.1880 - val_accuracy: 0.9084 - val_loss: 0.2665\n",
            "Epoch 47/60\n",
            "\u001b[1m2392/2392\u001b[0m \u001b[32m━━━━━━━━━━━━━━━━━━━━\u001b[0m\u001b[37m\u001b[0m \u001b[1m109s\u001b[0m 45ms/step - accuracy: 0.9259 - loss: 0.1850 - val_accuracy: 0.9096 - val_loss: 0.2879\n",
            "Epoch 48/60\n",
            "\u001b[1m2392/2392\u001b[0m \u001b[32m━━━━━━━━━━━━━━━━━━━━\u001b[0m\u001b[37m\u001b[0m \u001b[1m110s\u001b[0m 46ms/step - accuracy: 0.9274 - loss: 0.1842 - val_accuracy: 0.9106 - val_loss: 0.2700\n",
            "Epoch 49/60\n",
            "\u001b[1m2392/2392\u001b[0m \u001b[32m━━━━━━━━━━━━━━━━━━━━\u001b[0m\u001b[37m\u001b[0m \u001b[1m109s\u001b[0m 46ms/step - accuracy: 0.9259 - loss: 0.1858 - val_accuracy: 0.9072 - val_loss: 0.3016\n",
            "Epoch 50/60\n",
            "\u001b[1m2392/2392\u001b[0m \u001b[32m━━━━━━━━━━━━━━━━━━━━\u001b[0m\u001b[37m\u001b[0m \u001b[1m112s\u001b[0m 47ms/step - accuracy: 0.9254 - loss: 0.1897 - val_accuracy: 0.9089 - val_loss: 0.2701\n",
            "Epoch 51/60\n",
            "\u001b[1m2392/2392\u001b[0m \u001b[32m━━━━━━━━━━━━━━━━━━━━\u001b[0m\u001b[37m\u001b[0m \u001b[1m141s\u001b[0m 46ms/step - accuracy: 0.9266 - loss: 0.1855 - val_accuracy: 0.9118 - val_loss: 0.2751\n",
            "Epoch 52/60\n",
            "\u001b[1m2392/2392\u001b[0m \u001b[32m━━━━━━━━━━━━━━━━━━━━\u001b[0m\u001b[37m\u001b[0m \u001b[1m142s\u001b[0m 46ms/step - accuracy: 0.9264 - loss: 0.1839 - val_accuracy: 0.9082 - val_loss: 0.2823\n",
            "Epoch 53/60\n",
            "\u001b[1m2392/2392\u001b[0m \u001b[32m━━━━━━━━━━━━━━━━━━━━\u001b[0m\u001b[37m\u001b[0m \u001b[1m143s\u001b[0m 47ms/step - accuracy: 0.9264 - loss: 0.1852 - val_accuracy: 0.9122 - val_loss: 0.2924\n",
            "Epoch 54/60\n",
            "\u001b[1m2392/2392\u001b[0m \u001b[32m━━━━━━━━━━━━━━━━━━━━\u001b[0m\u001b[37m\u001b[0m \u001b[1m141s\u001b[0m 47ms/step - accuracy: 0.9272 - loss: 0.1844 - val_accuracy: 0.9104 - val_loss: 0.2672\n",
            "Epoch 55/60\n",
            "\u001b[1m2392/2392\u001b[0m \u001b[32m━━━━━━━━━━━━━━━━━━━━\u001b[0m\u001b[37m\u001b[0m \u001b[1m112s\u001b[0m 47ms/step - accuracy: 0.9273 - loss: 0.1821 - val_accuracy: 0.9125 - val_loss: 0.2797\n",
            "Epoch 56/60\n",
            "\u001b[1m2392/2392\u001b[0m \u001b[32m━━━━━━━━━━━━━━━━━━━━\u001b[0m\u001b[37m\u001b[0m \u001b[1m111s\u001b[0m 46ms/step - accuracy: 0.9284 - loss: 0.1817 - val_accuracy: 0.9134 - val_loss: 0.2882\n",
            "Epoch 57/60\n",
            "\u001b[1m2392/2392\u001b[0m \u001b[32m━━━━━━━━━━━━━━━━━━━━\u001b[0m\u001b[37m\u001b[0m \u001b[1m110s\u001b[0m 46ms/step - accuracy: 0.9259 - loss: 0.1858 - val_accuracy: 0.9095 - val_loss: 0.2737\n",
            "Epoch 58/60\n",
            "\u001b[1m2392/2392\u001b[0m \u001b[32m━━━━━━━━━━━━━━━━━━━━\u001b[0m\u001b[37m\u001b[0m \u001b[1m141s\u001b[0m 46ms/step - accuracy: 0.9283 - loss: 0.1817 - val_accuracy: 0.9102 - val_loss: 0.2703\n",
            "Epoch 59/60\n",
            "\u001b[1m2392/2392\u001b[0m \u001b[32m━━━━━━━━━━━━━━━━━━━━\u001b[0m\u001b[37m\u001b[0m \u001b[1m110s\u001b[0m 46ms/step - accuracy: 0.9281 - loss: 0.1807 - val_accuracy: 0.9115 - val_loss: 0.2910\n",
            "Epoch 60/60\n",
            "\u001b[1m2392/2392\u001b[0m \u001b[32m━━━━━━━━━━━━━━━━━━━━\u001b[0m\u001b[37m\u001b[0m \u001b[1m144s\u001b[0m 47ms/step - accuracy: 0.9266 - loss: 0.1843 - val_accuracy: 0.9141 - val_loss: 0.2697\n"
          ]
        },
        {
          "output_type": "execute_result",
          "data": {
            "text/plain": [
              "<keras.src.callbacks.history.History at 0x7acaaade3f90>"
            ]
          },
          "metadata": {},
          "execution_count": 34
        }
      ]
    },
    {
      "cell_type": "code",
      "source": [
        "# Evaluasi model pada data testing\n",
        "test_loss, test_accuracy = model2.evaluate(X_test, y_test)\n",
        "print(f\"Akurasi Testing (dari model.evaluate): {test_accuracy:.2%}\")"
      ],
      "metadata": {
        "colab": {
          "base_uri": "https://localhost:8080/"
        },
        "id": "qRFsye-16RH-",
        "outputId": "34b131db-d9a3-4529-f0fa-5031716e35fe"
      },
      "execution_count": 35,
      "outputs": [
        {
          "output_type": "stream",
          "name": "stdout",
          "text": [
            "\u001b[1m1196/1196\u001b[0m \u001b[32m━━━━━━━━━━━━━━━━━━━━\u001b[0m\u001b[37m\u001b[0m \u001b[1m12s\u001b[0m 10ms/step - accuracy: 0.9165 - loss: 0.2599\n",
            "Akurasi Testing (dari model.evaluate): 91.41%\n"
          ]
        }
      ]
    },
    {
      "cell_type": "code",
      "source": [
        "# Inference dan Testing Skema 2\n",
        "print(\"\\nTesting Skema 2: CNN dengan Word2Vec (80/20)\")\n",
        "y_pred2 = np.argmax(model2.predict(X_test), axis=1)\n",
        "print(classification_report(y_test, y_pred2, target_names=label_encoder.classes_))"
      ],
      "metadata": {
        "id": "_UsfMFfeqUJm",
        "colab": {
          "base_uri": "https://localhost:8080/"
        },
        "outputId": "26b06127-dedf-4b51-af7d-65bd2230cf65"
      },
      "execution_count": 36,
      "outputs": [
        {
          "output_type": "stream",
          "name": "stdout",
          "text": [
            "\n",
            "Testing Skema 2: CNN dengan Word2Vec (80/20)\n",
            "\u001b[1m1196/1196\u001b[0m \u001b[32m━━━━━━━━━━━━━━━━━━━━\u001b[0m\u001b[37m\u001b[0m \u001b[1m10s\u001b[0m 9ms/step\n",
            "              precision    recall  f1-score   support\n",
            "\n",
            "     negatif       0.90      0.89      0.89     12749\n",
            "      netral       0.92      0.97      0.94     12623\n",
            "     positif       0.93      0.89      0.91     12888\n",
            "\n",
            "    accuracy                           0.91     38260\n",
            "   macro avg       0.91      0.91      0.91     38260\n",
            "weighted avg       0.91      0.91      0.91     38260\n",
            "\n"
          ]
        }
      ]
    },
    {
      "cell_type": "markdown",
      "source": [
        "**Insight Skema 2 :**\n",
        "\n",
        "- Model CNN dengan Word2Vec mencapai akurasi 91.41% pada data uji. Angka ini menunjukkan bahwa model cukup andal dalam mengklasifikasikan sentimen komentar YouTube dengan tingkat kesalahan sekitar 8.59%.\n",
        "- Precision: Persentase prediksi benar dari semua prediksi pada kelas tertentu.\n",
        "\n",
        " **Precision tertinggi:** Kelas positif (0.93), menunjukkan model paling akurat dalam mengenali komentar positif.\n",
        "- Recall: Persentase data aktual yang teridentifikasi benar.\n",
        "\n",
        " **Recall tertinggi:** Kelas netral (0.97), artinya hampir semua komentar netral berhasil dideteksi.\n",
        "- F1-Score: Rata-rata harmonik dari precision dan recall.\n",
        "\n",
        " **F1-Score tertinggi**: Kelas netral (0.94), menunjukkan keseimbangan yang baik antara presisi dan recall.\n",
        "\n",
        "- **Macro Average:** Akurasi pada semua kelas seimbang (0.91), menunjukkan performa model yang konsisten.\n",
        "- **Weighted Average:** Nilainya juga 0.91, menunjukkan tidak ada kelas yang terlalu mendominasi atau terlalu lemah."
      ],
      "metadata": {
        "id": "L6uFR_uK-5Fr"
      }
    }
  ]
}