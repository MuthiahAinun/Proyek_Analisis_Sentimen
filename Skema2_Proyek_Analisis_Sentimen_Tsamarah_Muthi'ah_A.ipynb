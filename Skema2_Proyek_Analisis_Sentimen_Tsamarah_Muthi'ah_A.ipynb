{
  "nbformat": 4,
  "nbformat_minor": 0,
  "metadata": {
    "colab": {
      "provenance": [],
      "include_colab_link": true
    },
    "kernelspec": {
      "name": "python3",
      "display_name": "Python 3"
    },
    "language_info": {
      "name": "python"
    }
  },
  "cells": [
    {
      "cell_type": "markdown",
      "metadata": {
        "id": "view-in-github",
        "colab_type": "text"
      },
      "source": [
        "<a href=\"https://colab.research.google.com/github/MuthiahAinun/Proyek_Analisis_Sentimen/blob/main/Skema2_Proyek_Analisis_Sentimen_Tsamarah_Muthi'ah_A.ipynb\" target=\"_parent\"><img src=\"https://colab.research.google.com/assets/colab-badge.svg\" alt=\"Open In Colab\"/></a>"
      ]
    },
    {
      "cell_type": "markdown",
      "source": [
        "# Proyek Analisis Sentimen: [Youtube-Comments-dataset]\n",
        "- **Nama:** [Tsamarah Muthi'ah Abdullah]\n",
        "- **Email:** [a135xaf486@devacademy.id]\n",
        "- **ID Dicoding:** [a135xaf48]"
      ],
      "metadata": {
        "id": "TGyNMBnyGxsv"
      }
    },
    {
      "cell_type": "markdown",
      "source": [
        "# Import Library"
      ],
      "metadata": {
        "id": "PkjP4X-lHP1v"
      }
    },
    {
      "cell_type": "code",
      "source": [
        "# Menginstall google API\n",
        "!pip install --upgrade google-api-python-client pandas"
      ],
      "metadata": {
        "colab": {
          "base_uri": "https://localhost:8080/",
          "height": 931
        },
        "id": "fUh0dCwlHnD7",
        "outputId": "0972e66b-bf1a-4287-f870-93a9f97bd38a"
      },
      "execution_count": null,
      "outputs": [
        {
          "output_type": "stream",
          "name": "stdout",
          "text": [
            "Requirement already satisfied: google-api-python-client in /usr/local/lib/python3.11/dist-packages (2.160.0)\n",
            "Collecting google-api-python-client\n",
            "  Downloading google_api_python_client-2.165.0-py2.py3-none-any.whl.metadata (6.6 kB)\n",
            "Requirement already satisfied: pandas in /usr/local/lib/python3.11/dist-packages (2.2.2)\n",
            "Collecting pandas\n",
            "  Downloading pandas-2.2.3-cp311-cp311-manylinux_2_17_x86_64.manylinux2014_x86_64.whl.metadata (89 kB)\n",
            "\u001b[2K     \u001b[90m━━━━━━━━━━━━━━━━━━━━━━━━━━━━━━━━━━━━━━━━\u001b[0m \u001b[32m89.9/89.9 kB\u001b[0m \u001b[31m2.5 MB/s\u001b[0m eta \u001b[36m0:00:00\u001b[0m\n",
            "\u001b[?25hRequirement already satisfied: httplib2<1.0.0,>=0.19.0 in /usr/local/lib/python3.11/dist-packages (from google-api-python-client) (0.22.0)\n",
            "Requirement already satisfied: google-auth!=2.24.0,!=2.25.0,<3.0.0,>=1.32.0 in /usr/local/lib/python3.11/dist-packages (from google-api-python-client) (2.38.0)\n",
            "Requirement already satisfied: google-auth-httplib2<1.0.0,>=0.2.0 in /usr/local/lib/python3.11/dist-packages (from google-api-python-client) (0.2.0)\n",
            "Requirement already satisfied: google-api-core!=2.0.*,!=2.1.*,!=2.2.*,!=2.3.0,<3.0.0,>=1.31.5 in /usr/local/lib/python3.11/dist-packages (from google-api-python-client) (2.24.2)\n",
            "Requirement already satisfied: uritemplate<5,>=3.0.1 in /usr/local/lib/python3.11/dist-packages (from google-api-python-client) (4.1.1)\n",
            "Requirement already satisfied: numpy>=1.23.2 in /usr/local/lib/python3.11/dist-packages (from pandas) (2.0.2)\n",
            "Requirement already satisfied: python-dateutil>=2.8.2 in /usr/local/lib/python3.11/dist-packages (from pandas) (2.8.2)\n",
            "Requirement already satisfied: pytz>=2020.1 in /usr/local/lib/python3.11/dist-packages (from pandas) (2025.1)\n",
            "Requirement already satisfied: tzdata>=2022.7 in /usr/local/lib/python3.11/dist-packages (from pandas) (2025.1)\n",
            "Requirement already satisfied: googleapis-common-protos<2.0.0,>=1.56.2 in /usr/local/lib/python3.11/dist-packages (from google-api-core!=2.0.*,!=2.1.*,!=2.2.*,!=2.3.0,<3.0.0,>=1.31.5->google-api-python-client) (1.69.1)\n",
            "Requirement already satisfied: protobuf!=3.20.0,!=3.20.1,!=4.21.0,!=4.21.1,!=4.21.2,!=4.21.3,!=4.21.4,!=4.21.5,<7.0.0,>=3.19.5 in /usr/local/lib/python3.11/dist-packages (from google-api-core!=2.0.*,!=2.1.*,!=2.2.*,!=2.3.0,<3.0.0,>=1.31.5->google-api-python-client) (4.25.6)\n",
            "Requirement already satisfied: proto-plus<2.0.0,>=1.22.3 in /usr/local/lib/python3.11/dist-packages (from google-api-core!=2.0.*,!=2.1.*,!=2.2.*,!=2.3.0,<3.0.0,>=1.31.5->google-api-python-client) (1.26.1)\n",
            "Requirement already satisfied: requests<3.0.0,>=2.18.0 in /usr/local/lib/python3.11/dist-packages (from google-api-core!=2.0.*,!=2.1.*,!=2.2.*,!=2.3.0,<3.0.0,>=1.31.5->google-api-python-client) (2.32.3)\n",
            "Requirement already satisfied: cachetools<6.0,>=2.0.0 in /usr/local/lib/python3.11/dist-packages (from google-auth!=2.24.0,!=2.25.0,<3.0.0,>=1.32.0->google-api-python-client) (5.5.2)\n",
            "Requirement already satisfied: pyasn1-modules>=0.2.1 in /usr/local/lib/python3.11/dist-packages (from google-auth!=2.24.0,!=2.25.0,<3.0.0,>=1.32.0->google-api-python-client) (0.4.1)\n",
            "Requirement already satisfied: rsa<5,>=3.1.4 in /usr/local/lib/python3.11/dist-packages (from google-auth!=2.24.0,!=2.25.0,<3.0.0,>=1.32.0->google-api-python-client) (4.9)\n",
            "Requirement already satisfied: pyparsing!=3.0.0,!=3.0.1,!=3.0.2,!=3.0.3,<4,>=2.4.2 in /usr/local/lib/python3.11/dist-packages (from httplib2<1.0.0,>=0.19.0->google-api-python-client) (3.2.1)\n",
            "Requirement already satisfied: six>=1.5 in /usr/local/lib/python3.11/dist-packages (from python-dateutil>=2.8.2->pandas) (1.17.0)\n",
            "Requirement already satisfied: pyasn1<0.7.0,>=0.4.6 in /usr/local/lib/python3.11/dist-packages (from pyasn1-modules>=0.2.1->google-auth!=2.24.0,!=2.25.0,<3.0.0,>=1.32.0->google-api-python-client) (0.6.1)\n",
            "Requirement already satisfied: charset-normalizer<4,>=2 in /usr/local/lib/python3.11/dist-packages (from requests<3.0.0,>=2.18.0->google-api-core!=2.0.*,!=2.1.*,!=2.2.*,!=2.3.0,<3.0.0,>=1.31.5->google-api-python-client) (3.4.1)\n",
            "Requirement already satisfied: idna<4,>=2.5 in /usr/local/lib/python3.11/dist-packages (from requests<3.0.0,>=2.18.0->google-api-core!=2.0.*,!=2.1.*,!=2.2.*,!=2.3.0,<3.0.0,>=1.31.5->google-api-python-client) (3.10)\n",
            "Requirement already satisfied: urllib3<3,>=1.21.1 in /usr/local/lib/python3.11/dist-packages (from requests<3.0.0,>=2.18.0->google-api-core!=2.0.*,!=2.1.*,!=2.2.*,!=2.3.0,<3.0.0,>=1.31.5->google-api-python-client) (2.3.0)\n",
            "Requirement already satisfied: certifi>=2017.4.17 in /usr/local/lib/python3.11/dist-packages (from requests<3.0.0,>=2.18.0->google-api-core!=2.0.*,!=2.1.*,!=2.2.*,!=2.3.0,<3.0.0,>=1.31.5->google-api-python-client) (2025.1.31)\n",
            "Downloading google_api_python_client-2.165.0-py2.py3-none-any.whl (13.1 MB)\n",
            "\u001b[2K   \u001b[90m━━━━━━━━━━━━━━━━━━━━━━━━━━━━━━━━━━━━━━━━\u001b[0m \u001b[32m13.1/13.1 MB\u001b[0m \u001b[31m75.8 MB/s\u001b[0m eta \u001b[36m0:00:00\u001b[0m\n",
            "\u001b[?25hDownloading pandas-2.2.3-cp311-cp311-manylinux_2_17_x86_64.manylinux2014_x86_64.whl (13.1 MB)\n",
            "\u001b[2K   \u001b[90m━━━━━━━━━━━━━━━━━━━━━━━━━━━━━━━━━━━━━━━━\u001b[0m \u001b[32m13.1/13.1 MB\u001b[0m \u001b[31m78.4 MB/s\u001b[0m eta \u001b[36m0:00:00\u001b[0m\n",
            "\u001b[?25hInstalling collected packages: pandas, google-api-python-client\n",
            "  Attempting uninstall: pandas\n",
            "    Found existing installation: pandas 2.2.2\n",
            "    Uninstalling pandas-2.2.2:\n",
            "      Successfully uninstalled pandas-2.2.2\n",
            "  Attempting uninstall: google-api-python-client\n",
            "    Found existing installation: google-api-python-client 2.160.0\n",
            "    Uninstalling google-api-python-client-2.160.0:\n",
            "      Successfully uninstalled google-api-python-client-2.160.0\n",
            "\u001b[31mERROR: pip's dependency resolver does not currently take into account all the packages that are installed. This behaviour is the source of the following dependency conflicts.\n",
            "google-colab 1.0.0 requires pandas==2.2.2, but you have pandas 2.2.3 which is incompatible.\u001b[0m\u001b[31m\n",
            "\u001b[0mSuccessfully installed google-api-python-client-2.165.0 pandas-2.2.3\n"
          ]
        },
        {
          "output_type": "display_data",
          "data": {
            "application/vnd.colab-display-data+json": {
              "pip_warning": {
                "packages": [
                  "googleapiclient"
                ]
              },
              "id": "89e98e9bd9e6453fbc24c427798b843d"
            }
          },
          "metadata": {}
        }
      ]
    },
    {
      "cell_type": "code",
      "source": [
        "!pip install gensim"
      ],
      "metadata": {
        "colab": {
          "base_uri": "https://localhost:8080/"
        },
        "id": "FwkllzT7zE1i",
        "outputId": "29f67760-ff74-46d0-bf2a-811c46e6d915"
      },
      "execution_count": 3,
      "outputs": [
        {
          "output_type": "stream",
          "name": "stdout",
          "text": [
            "Collecting gensim\n",
            "  Downloading gensim-4.3.3-cp311-cp311-manylinux_2_17_x86_64.manylinux2014_x86_64.whl.metadata (8.1 kB)\n",
            "Collecting numpy<2.0,>=1.18.5 (from gensim)\n",
            "  Downloading numpy-1.26.4-cp311-cp311-manylinux_2_17_x86_64.manylinux2014_x86_64.whl.metadata (61 kB)\n",
            "\u001b[2K     \u001b[90m━━━━━━━━━━━━━━━━━━━━━━━━━━━━━━━━━━━━━━━━\u001b[0m \u001b[32m61.0/61.0 kB\u001b[0m \u001b[31m3.6 MB/s\u001b[0m eta \u001b[36m0:00:00\u001b[0m\n",
            "\u001b[?25hCollecting scipy<1.14.0,>=1.7.0 (from gensim)\n",
            "  Downloading scipy-1.13.1-cp311-cp311-manylinux_2_17_x86_64.manylinux2014_x86_64.whl.metadata (60 kB)\n",
            "\u001b[2K     \u001b[90m━━━━━━━━━━━━━━━━━━━━━━━━━━━━━━━━━━━━━━━━\u001b[0m \u001b[32m60.6/60.6 kB\u001b[0m \u001b[31m3.6 MB/s\u001b[0m eta \u001b[36m0:00:00\u001b[0m\n",
            "\u001b[?25hRequirement already satisfied: smart-open>=1.8.1 in /usr/local/lib/python3.11/dist-packages (from gensim) (7.1.0)\n",
            "Requirement already satisfied: wrapt in /usr/local/lib/python3.11/dist-packages (from smart-open>=1.8.1->gensim) (1.17.2)\n",
            "Downloading gensim-4.3.3-cp311-cp311-manylinux_2_17_x86_64.manylinux2014_x86_64.whl (26.7 MB)\n",
            "\u001b[2K   \u001b[90m━━━━━━━━━━━━━━━━━━━━━━━━━━━━━━━━━━━━━━━━\u001b[0m \u001b[32m26.7/26.7 MB\u001b[0m \u001b[31m60.9 MB/s\u001b[0m eta \u001b[36m0:00:00\u001b[0m\n",
            "\u001b[?25hDownloading numpy-1.26.4-cp311-cp311-manylinux_2_17_x86_64.manylinux2014_x86_64.whl (18.3 MB)\n",
            "\u001b[2K   \u001b[90m━━━━━━━━━━━━━━━━━━━━━━━━━━━━━━━━━━━━━━━━\u001b[0m \u001b[32m18.3/18.3 MB\u001b[0m \u001b[31m76.8 MB/s\u001b[0m eta \u001b[36m0:00:00\u001b[0m\n",
            "\u001b[?25hDownloading scipy-1.13.1-cp311-cp311-manylinux_2_17_x86_64.manylinux2014_x86_64.whl (38.6 MB)\n",
            "\u001b[2K   \u001b[90m━━━━━━━━━━━━━━━━━━━━━━━━━━━━━━━━━━━━━━━━\u001b[0m \u001b[32m38.6/38.6 MB\u001b[0m \u001b[31m15.2 MB/s\u001b[0m eta \u001b[36m0:00:00\u001b[0m\n",
            "\u001b[?25hInstalling collected packages: numpy, scipy, gensim\n",
            "  Attempting uninstall: numpy\n",
            "    Found existing installation: numpy 2.0.2\n",
            "    Uninstalling numpy-2.0.2:\n",
            "      Successfully uninstalled numpy-2.0.2\n",
            "  Attempting uninstall: scipy\n",
            "    Found existing installation: scipy 1.14.1\n",
            "    Uninstalling scipy-1.14.1:\n",
            "      Successfully uninstalled scipy-1.14.1\n",
            "Successfully installed gensim-4.3.3 numpy-1.26.4 scipy-1.13.1\n"
          ]
        }
      ]
    },
    {
      "cell_type": "code",
      "source": [
        "!pip install --upgrade numpy"
      ],
      "metadata": {
        "colab": {
          "base_uri": "https://localhost:8080/"
        },
        "id": "Qi3GGvHu2ZC8",
        "outputId": "ae1afdb8-cc3c-4957-a0c0-b24d8bad507b"
      },
      "execution_count": 5,
      "outputs": [
        {
          "output_type": "stream",
          "name": "stdout",
          "text": [
            "Requirement already satisfied: numpy in /usr/local/lib/python3.11/dist-packages (2.2.4)\n"
          ]
        }
      ]
    },
    {
      "cell_type": "code",
      "source": [
        "!pip install --upgrade gensim"
      ],
      "metadata": {
        "colab": {
          "base_uri": "https://localhost:8080/"
        },
        "id": "htTGTKYl2fqb",
        "outputId": "f8035877-f489-4b51-f5e4-41aa84845d82"
      },
      "execution_count": 6,
      "outputs": [
        {
          "output_type": "stream",
          "name": "stdout",
          "text": [
            "Requirement already satisfied: gensim in /usr/local/lib/python3.11/dist-packages (4.3.3)\n",
            "Collecting numpy<2.0,>=1.18.5 (from gensim)\n",
            "  Using cached numpy-1.26.4-cp311-cp311-manylinux_2_17_x86_64.manylinux2014_x86_64.whl.metadata (61 kB)\n",
            "Requirement already satisfied: scipy<1.14.0,>=1.7.0 in /usr/local/lib/python3.11/dist-packages (from gensim) (1.13.1)\n",
            "Requirement already satisfied: smart-open>=1.8.1 in /usr/local/lib/python3.11/dist-packages (from gensim) (7.1.0)\n",
            "Requirement already satisfied: wrapt in /usr/local/lib/python3.11/dist-packages (from smart-open>=1.8.1->gensim) (1.17.2)\n",
            "Using cached numpy-1.26.4-cp311-cp311-manylinux_2_17_x86_64.manylinux2014_x86_64.whl (18.3 MB)\n",
            "Installing collected packages: numpy\n",
            "  Attempting uninstall: numpy\n",
            "    Found existing installation: numpy 2.2.4\n",
            "    Uninstalling numpy-2.2.4:\n",
            "      Successfully uninstalled numpy-2.2.4\n",
            "Successfully installed numpy-1.26.4\n"
          ]
        }
      ]
    },
    {
      "cell_type": "code",
      "source": [
        "# Import Library\n",
        "import googleapiclient.discovery\n",
        "import pandas as pd\n",
        "import time\n",
        "import random\n",
        "import re\n",
        "import string\n",
        "import tensorflow as tf\n",
        "import numpy as np\n",
        "from tensorflow.keras.layers import Embedding, LSTM, Dense, Dropout, Conv1D, GlobalMaxPooling1D, Bidirectional, BatchNormalization\n",
        "from sklearn.metrics import classification_report, accuracy_score\n",
        "from tensorflow.keras.preprocessing.text import Tokenizer\n",
        "from tensorflow.keras.preprocessing.sequence import pad_sequences\n",
        "from tensorflow.keras.models import Sequential\n",
        "from tensorflow.keras.layers import Embedding, LSTM, GRU, Conv1D, GlobalMaxPooling1D, Dense, Dropout, Bidirectional, BatchNormalization\n",
        "from sklearn.model_selection import train_test_split\n",
        "from sklearn.preprocessing import LabelEncoder\n",
        "from imblearn.over_sampling import SMOTE\n",
        "from gensim.models import Word2Vec"
      ],
      "metadata": {
        "id": "I6Pw9OLlHXG7"
      },
      "execution_count": 1,
      "outputs": []
    },
    {
      "cell_type": "markdown",
      "source": [
        "# Data Preprocessing dan Pembersihan"
      ],
      "metadata": {
        "id": "ENIdk__BiOJT"
      }
    },
    {
      "cell_type": "code",
      "source": [
        "# Membaca dan Menampilkan informasi dataset\n",
        "dataset = pd.read_csv(\"NDsO1LT_0lw_youtube_comments.csv\")\n",
        "print(\"Jumlah data:\", len(dataset))"
      ],
      "metadata": {
        "colab": {
          "base_uri": "https://localhost:8080/"
        },
        "id": "wtg0gpXcjEH8",
        "outputId": "ea5e854a-cb88-4901-c609-80df6b287557"
      },
      "execution_count": 2,
      "outputs": [
        {
          "output_type": "stream",
          "name": "stdout",
          "text": [
            "Jumlah data: 85028\n"
          ]
        }
      ]
    },
    {
      "cell_type": "code",
      "source": [
        "print(dataset.head())"
      ],
      "metadata": {
        "colab": {
          "base_uri": "https://localhost:8080/"
        },
        "id": "4ADwNxWVjWUx",
        "outputId": "b18438c7-5676-454f-b91f-0d38bf19a6c1"
      },
      "execution_count": 3,
      "outputs": [
        {
          "output_type": "stream",
          "name": "stdout",
          "text": [
            "             username                                               text  \\\n",
            "0            @MrBeast  BEAST GAMES FINALE DROPS FEBRUARY 13TH! GO WAT...   \n",
            "1     @SultanRayyan-7                          Saya orang Indonesia 🇮🇩🇮🇩   \n",
            "2  @MohamadrezaRezayy  مستر بیست عزیز ❤ لطفا دوبله فارسی این ویدیو را...   \n",
            "3       @ILoveyou-954  বাংলাদেশ আসবেন কবে পাবনা জেলার কিছু দেখতে চাই ...   \n",
            "4     @Moneymakerarab  This is for girls listen to Dalida - Helwa ya ...   \n",
            "\n",
            "   likes          published_at  \n",
            "0  54600  2025-02-08T16:59:31Z  \n",
            "1      0  2025-03-19T21:51:42Z  \n",
            "2      0  2025-03-19T21:43:03Z  \n",
            "3      0  2025-03-19T21:34:32Z  \n",
            "4      0  2025-03-19T21:20:21Z  \n"
          ]
        }
      ]
    },
    {
      "cell_type": "code",
      "source": [
        "print(\"Informasi Dataset:\")\n",
        "print(dataset.info())"
      ],
      "metadata": {
        "colab": {
          "base_uri": "https://localhost:8080/"
        },
        "id": "gD1WeBk3jj4g",
        "outputId": "d02e59ac-ba4b-40f2-b689-43ea2c70afe8"
      },
      "execution_count": 4,
      "outputs": [
        {
          "output_type": "stream",
          "name": "stdout",
          "text": [
            "Informasi Dataset:\n",
            "<class 'pandas.core.frame.DataFrame'>\n",
            "RangeIndex: 85028 entries, 0 to 85027\n",
            "Data columns (total 4 columns):\n",
            " #   Column        Non-Null Count  Dtype \n",
            "---  ------        --------------  ----- \n",
            " 0   username      84982 non-null  object\n",
            " 1   text          85028 non-null  object\n",
            " 2   likes         85028 non-null  int64 \n",
            " 3   published_at  85028 non-null  object\n",
            "dtypes: int64(1), object(3)\n",
            "memory usage: 2.6+ MB\n",
            "None\n"
          ]
        }
      ]
    },
    {
      "cell_type": "code",
      "source": [
        "print('\\nStatistik Deskriptif:')\n",
        "print(dataset.describe())"
      ],
      "metadata": {
        "colab": {
          "base_uri": "https://localhost:8080/"
        },
        "id": "ilYCEbrKjv5n",
        "outputId": "88755dbf-0f89-4a0f-849b-3be61a53ff10"
      },
      "execution_count": 5,
      "outputs": [
        {
          "output_type": "stream",
          "name": "stdout",
          "text": [
            "\n",
            "Statistik Deskriptif:\n",
            "               likes\n",
            "count   85028.000000\n",
            "mean        9.727654\n",
            "std       744.702565\n",
            "min         0.000000\n",
            "25%         0.000000\n",
            "50%         0.000000\n",
            "75%         1.000000\n",
            "max    167348.000000\n"
          ]
        }
      ]
    },
    {
      "cell_type": "code",
      "source": [
        "# Mengecek jumlah missing values di setiap kolom\n",
        "print(dataset.isnull().sum())"
      ],
      "metadata": {
        "colab": {
          "base_uri": "https://localhost:8080/"
        },
        "id": "GEaqaxe4j6Li",
        "outputId": "1cca2a25-9cad-4cf6-d089-81a61665c331"
      },
      "execution_count": 6,
      "outputs": [
        {
          "output_type": "stream",
          "name": "stdout",
          "text": [
            "username        46\n",
            "text             0\n",
            "likes            0\n",
            "published_at     0\n",
            "dtype: int64\n"
          ]
        }
      ]
    },
    {
      "cell_type": "code",
      "source": [
        "# Menghapus nilai kosong\n",
        "dataset.dropna(inplace=True)"
      ],
      "metadata": {
        "id": "ZTNC1ghpkkpa"
      },
      "execution_count": 7,
      "outputs": []
    },
    {
      "cell_type": "code",
      "source": [
        "# Menghapus duplikasi\n",
        "dataset.drop_duplicates(subset=['text'], inplace=True)"
      ],
      "metadata": {
        "id": "b5HYvwY0kn00"
      },
      "execution_count": 8,
      "outputs": []
    },
    {
      "cell_type": "code",
      "source": [
        "# Pembersihan teks\n",
        "def clean_text(text):\n",
        "    text = re.sub(r'@\\w+', '', text)  # Menghapus username\n",
        "    text = re.sub(r'http\\S+', '', text)  # Menghapus URL\n",
        "    text = re.sub(r'[^A-Za-z\\s]', '', text)  # Menghapus karakter non-huruf\n",
        "    text = text.lower().strip()  # Mengubah ke huruf kecil dan menghapus spasi\n",
        "    return text\n",
        "\n",
        "dataset['cleaned_text'] = dataset['text'].apply(clean_text)\n",
        "print(\"Data setelah pembersihan:\")\n",
        "print(dataset.head())"
      ],
      "metadata": {
        "colab": {
          "base_uri": "https://localhost:8080/"
        },
        "id": "-Mi_m65UkrwQ",
        "outputId": "322e2de0-93ec-47b5-e69a-c6d2784813e2"
      },
      "execution_count": 10,
      "outputs": [
        {
          "output_type": "stream",
          "name": "stdout",
          "text": [
            "Data setelah pembersihan:\n",
            "             username                                               text  \\\n",
            "0            @MrBeast  BEAST GAMES FINALE DROPS FEBRUARY 13TH! GO WAT...   \n",
            "1     @SultanRayyan-7                          Saya orang Indonesia 🇮🇩🇮🇩   \n",
            "2  @MohamadrezaRezayy  مستر بیست عزیز ❤ لطفا دوبله فارسی این ویدیو را...   \n",
            "3       @ILoveyou-954  বাংলাদেশ আসবেন কবে পাবনা জেলার কিছু দেখতে চাই ...   \n",
            "4     @Moneymakerarab  This is for girls listen to Dalida - Helwa ya ...   \n",
            "\n",
            "   likes          published_at  \\\n",
            "0  54600  2025-02-08T16:59:31Z   \n",
            "1      0  2025-03-19T21:51:42Z   \n",
            "2      0  2025-03-19T21:43:03Z   \n",
            "3      0  2025-03-19T21:34:32Z   \n",
            "4      0  2025-03-19T21:20:21Z   \n",
            "\n",
            "                                        cleaned_text  \n",
            "0  beast games finale drops february th go watch ...  \n",
            "1                               saya orang indonesia  \n",
            "2                                                     \n",
            "3                                                     \n",
            "4  this is for girls listen to dalida  helwa ya b...  \n"
          ]
        }
      ]
    },
    {
      "cell_type": "code",
      "source": [
        "# Mengecek kembali jumlah missing values di setiap kolom\n",
        "print(dataset.isnull().sum())"
      ],
      "metadata": {
        "colab": {
          "base_uri": "https://localhost:8080/"
        },
        "id": "ocQOJSqMk5Nv",
        "outputId": "b29af0ae-87fe-4b15-acc5-ff26e0f5d5a3"
      },
      "execution_count": 11,
      "outputs": [
        {
          "output_type": "stream",
          "name": "stdout",
          "text": [
            "username        0\n",
            "text            0\n",
            "likes           0\n",
            "published_at    0\n",
            "cleaned_text    0\n",
            "dtype: int64\n"
          ]
        }
      ]
    },
    {
      "cell_type": "markdown",
      "source": [
        "# **2. Ekstraksi Fitur dan Pelabelan Data**"
      ],
      "metadata": {
        "id": "nBwOOPI5lASL"
      }
    },
    {
      "cell_type": "markdown",
      "source": [
        "Metode yang digunakan bebas sesuai dengan preferensi masing-masing peserta. Tahapan ini penting untuk mempersiapkan data sehingga dapat diolah lebih lanjut dalam proses pelatihan model."
      ],
      "metadata": {
        "id": "eJv-MtsUlHzI"
      }
    },
    {
      "cell_type": "code",
      "source": [
        "# Melabeli komentar secara manual (positif, netral, negatif)\n",
        "def label_comment(text):\n",
        "    if any(word in text for word in [\"love\", \"great\", \"awesome\", \"good\", \"nice\", \"amazing\", \"fantastic\"]):\n",
        "        return \"positif\"\n",
        "    elif any(word in text for word in [\"hate\", \"bad\", \"awful\", \"worst\", \"terrible\", \"disgusting\", \"boring\"]):\n",
        "        return \"negatif\"\n",
        "    else:\n",
        "        return \"netral\"\n",
        "\n",
        "dataset['label'] = dataset['cleaned_text'].apply(label_comment)\n",
        "print(\"Distribusi label:\")\n",
        "print(dataset['label'].value_counts())"
      ],
      "metadata": {
        "colab": {
          "base_uri": "https://localhost:8080/"
        },
        "id": "O7Uvoet4lI9T",
        "outputId": "a4a94aeb-11f8-48b5-d78a-20add4640422"
      },
      "execution_count": 12,
      "outputs": [
        {
          "output_type": "stream",
          "name": "stdout",
          "text": [
            "Distribusi label:\n",
            "label\n",
            "netral     63770\n",
            "positif     4724\n",
            "negatif       69\n",
            "Name: count, dtype: int64\n"
          ]
        }
      ]
    },
    {
      "cell_type": "code",
      "source": [
        "# Encoding label\n",
        "label_encoder = LabelEncoder()\n",
        "dataset['label_encoded'] = label_encoder.fit_transform(dataset['label'])\n",
        "\n",
        "# One-Hot Encoding pada label\n",
        "y = tf.keras.utils.to_categorical(dataset['label_encoded'], num_classes=len(label_encoder.classes_))\n",
        "\n",
        "print(\"Label Setelah Encoding:\")\n",
        "print(y[:5])\n",
        "print(\"Classes:\", label_encoder.classes_)"
      ],
      "metadata": {
        "id": "IqZS3KMplvFC",
        "outputId": "4cc6f232-3c34-4cea-9dde-0cc9f1a707e2",
        "colab": {
          "base_uri": "https://localhost:8080/"
        }
      },
      "execution_count": 14,
      "outputs": [
        {
          "output_type": "stream",
          "name": "stdout",
          "text": [
            "Label Setelah Encoding:\n",
            "[[0. 1. 0.]\n",
            " [0. 1. 0.]\n",
            " [0. 1. 0.]\n",
            " [0. 1. 0.]\n",
            " [0. 0. 1.]]\n",
            "Classes: ['negatif' 'netral' 'positif']\n"
          ]
        }
      ]
    },
    {
      "cell_type": "code",
      "source": [
        "# Tokenizer dan Padding\n",
        "tokenizer = Tokenizer(num_words=10000, oov_token=\"<OOV>\")\n",
        "tokenizer.fit_on_texts(dataset['cleaned_text'])\n",
        "sequences = tokenizer.texts_to_sequences(dataset['cleaned_text'])\n",
        "padded = pad_sequences(sequences, maxlen=100, padding='post')"
      ],
      "metadata": {
        "id": "TMmfeaBX5Rw9"
      },
      "execution_count": 15,
      "outputs": []
    },
    {
      "cell_type": "code",
      "source": [
        "# Mengatasi Ketidakseimbangan Data dengan SMOTE\n",
        "smote = SMOTE(random_state=42)\n",
        "X_resampled, y_resampled = smote.fit_resample(padded, dataset['label_encoded'])"
      ],
      "metadata": {
        "id": "YNBGDkiA5auJ"
      },
      "execution_count": 16,
      "outputs": []
    },
    {
      "cell_type": "markdown",
      "source": [
        "# **3. Pembangunan Model Deep Learning**"
      ],
      "metadata": {
        "id": "97mjHYpAmZKf"
      }
    },
    {
      "cell_type": "markdown",
      "source": [
        "Pilihan algoritma pelatihan ini haruslah sesuai dengan tujuan analisis sentimen yang ingin dicapai."
      ],
      "metadata": {
        "id": "lXa9RkwLmd-C"
      }
    },
    {
      "cell_type": "markdown",
      "source": [
        "# Skema 2: CNN dengan Word2Vec (80/20)"
      ],
      "metadata": {
        "id": "4Ps4q2FepCEE"
      }
    },
    {
      "cell_type": "markdown",
      "source": [
        "**Algoritma:** Convolutional Neural Network (CNN)\n",
        "\n",
        "**Ekstraksi Fitur:** Word2Vec\n",
        "\n",
        "**Alasan Pemilihan:**\n",
        "- CNN dikenal dalam pengenalan pola spasial, dan bisa dimanfaatkan untuk menangkap pola lokal pada teks (misalnya n-grams).\n",
        "- Word2Vec menghasilkan representasi vektor dari kata-kata dengan mempertimbangkan hubungan semantik dan sintaksis.\n",
        "- Kombinasi CNN + Word2Vec memungkinkan model mempelajari fitur spasial dari representasi kata yang lebih kaya."
      ],
      "metadata": {
        "id": "o_7WfFFd90Pk"
      }
    },
    {
      "cell_type": "code",
      "source": [
        "# Membagi data menjadi training dan testing\n",
        "X_train, X_test, y_train, y_test = train_test_split(X_resampled, y_resampled, test_size=0.2, random_state=42)"
      ],
      "metadata": {
        "id": "IJdEEgQt5e1v"
      },
      "execution_count": 17,
      "outputs": []
    },
    {
      "cell_type": "code",
      "source": [
        "# Membuat model Word2Vec menggunakan teks bersih\n",
        "word2vec = Word2Vec(sentences=[text.split() for text in dataset['cleaned_text']], vector_size=100, window=5, min_count=1)"
      ],
      "metadata": {
        "id": "8CwJhTmB0GJo"
      },
      "execution_count": 18,
      "outputs": []
    },
    {
      "cell_type": "code",
      "source": [
        "# Menyiapkan embedding matrix\n",
        "embedding_matrix = np.zeros((len(tokenizer.word_index) + 1, 100))\n",
        "for word, i in tokenizer.word_index.items():\n",
        "    if word in word2vec.wv:\n",
        "        embedding_matrix[i] = word2vec.wv[word]"
      ],
      "metadata": {
        "id": "QkmrFn7v0LOt"
      },
      "execution_count": 19,
      "outputs": []
    },
    {
      "cell_type": "code",
      "source": [
        "# Membangun model CNN\n",
        "model2 = Sequential([\n",
        "    Embedding(len(tokenizer.word_index) + 1, 100, weights=[embedding_matrix], input_length=100, trainable=False),\n",
        "    Conv1D(128, 5, activation='relu'),\n",
        "    GlobalMaxPooling1D(),\n",
        "    Dense(64, activation='relu'),\n",
        "    Dropout(0.5),\n",
        "    Dense(3, activation='softmax')\n",
        "])"
      ],
      "metadata": {
        "id": "kUuO0CUTpN6Z",
        "outputId": "7ebd177b-4533-40e3-b0c5-b6f18222e4cb",
        "colab": {
          "base_uri": "https://localhost:8080/"
        }
      },
      "execution_count": 20,
      "outputs": [
        {
          "output_type": "stream",
          "name": "stderr",
          "text": [
            "/usr/local/lib/python3.11/dist-packages/keras/src/layers/core/embedding.py:90: UserWarning: Argument `input_length` is deprecated. Just remove it.\n",
            "  warnings.warn(\n"
          ]
        }
      ]
    },
    {
      "cell_type": "code",
      "source": [
        "model2.compile(loss='sparse_categorical_crossentropy', optimizer='adam', metrics=['accuracy'])"
      ],
      "metadata": {
        "id": "Tkl2QjJNBDEl"
      },
      "execution_count": 21,
      "outputs": []
    },
    {
      "cell_type": "code",
      "source": [
        "model2.fit(X_train, y_train, epochs=80, validation_data=(X_test, y_test), batch_size=64)"
      ],
      "metadata": {
        "id": "YgQbQ3LjBC4o",
        "colab": {
          "base_uri": "https://localhost:8080/"
        },
        "outputId": "ecae51a9-f399-493f-b4d5-0a78cdda795c"
      },
      "execution_count": 22,
      "outputs": [
        {
          "output_type": "stream",
          "name": "stdout",
          "text": [
            "Epoch 1/80\n",
            "\u001b[1m2392/2392\u001b[0m \u001b[32m━━━━━━━━━━━━━━━━━━━━\u001b[0m\u001b[37m\u001b[0m \u001b[1m116s\u001b[0m 46ms/step - accuracy: 0.7494 - loss: 0.6190 - val_accuracy: 0.8440 - val_loss: 0.3897\n",
            "Epoch 2/80\n",
            "\u001b[1m2392/2392\u001b[0m \u001b[32m━━━━━━━━━━━━━━━━━━━━\u001b[0m\u001b[37m\u001b[0m \u001b[1m142s\u001b[0m 46ms/step - accuracy: 0.8359 - loss: 0.4196 - val_accuracy: 0.8638 - val_loss: 0.3493\n",
            "Epoch 3/80\n",
            "\u001b[1m2392/2392\u001b[0m \u001b[32m━━━━━━━━━━━━━━━━━━━━\u001b[0m\u001b[37m\u001b[0m \u001b[1m157s\u001b[0m 52ms/step - accuracy: 0.8556 - loss: 0.3729 - val_accuracy: 0.8774 - val_loss: 0.3172\n",
            "Epoch 4/80\n",
            "\u001b[1m2392/2392\u001b[0m \u001b[32m━━━━━━━━━━━━━━━━━━━━\u001b[0m\u001b[37m\u001b[0m \u001b[1m132s\u001b[0m 48ms/step - accuracy: 0.8664 - loss: 0.3488 - val_accuracy: 0.8786 - val_loss: 0.3077\n",
            "Epoch 5/80\n",
            "\u001b[1m2392/2392\u001b[0m \u001b[32m━━━━━━━━━━━━━━━━━━━━\u001b[0m\u001b[37m\u001b[0m \u001b[1m137s\u001b[0m 46ms/step - accuracy: 0.8774 - loss: 0.3228 - val_accuracy: 0.8881 - val_loss: 0.2925\n",
            "Epoch 6/80\n",
            "\u001b[1m2392/2392\u001b[0m \u001b[32m━━━━━━━━━━━━━━━━━━━━\u001b[0m\u001b[37m\u001b[0m \u001b[1m154s\u001b[0m 51ms/step - accuracy: 0.8827 - loss: 0.3106 - val_accuracy: 0.8799 - val_loss: 0.2979\n",
            "Epoch 7/80\n",
            "\u001b[1m2392/2392\u001b[0m \u001b[32m━━━━━━━━━━━━━━━━━━━━\u001b[0m\u001b[37m\u001b[0m \u001b[1m134s\u001b[0m 48ms/step - accuracy: 0.8866 - loss: 0.3024 - val_accuracy: 0.8938 - val_loss: 0.2808\n",
            "Epoch 8/80\n",
            "\u001b[1m2392/2392\u001b[0m \u001b[32m━━━━━━━━━━━━━━━━━━━━\u001b[0m\u001b[37m\u001b[0m \u001b[1m112s\u001b[0m 47ms/step - accuracy: 0.8930 - loss: 0.2891 - val_accuracy: 0.8963 - val_loss: 0.2795\n",
            "Epoch 9/80\n",
            "\u001b[1m2392/2392\u001b[0m \u001b[32m━━━━━━━━━━━━━━━━━━━━\u001b[0m\u001b[37m\u001b[0m \u001b[1m141s\u001b[0m 46ms/step - accuracy: 0.8951 - loss: 0.2822 - val_accuracy: 0.8982 - val_loss: 0.2713\n",
            "Epoch 10/80\n",
            "\u001b[1m2392/2392\u001b[0m \u001b[32m━━━━━━━━━━━━━━━━━━━━\u001b[0m\u001b[37m\u001b[0m \u001b[1m142s\u001b[0m 47ms/step - accuracy: 0.8988 - loss: 0.2734 - val_accuracy: 0.8989 - val_loss: 0.2722\n",
            "Epoch 11/80\n",
            "\u001b[1m2392/2392\u001b[0m \u001b[32m━━━━━━━━━━━━━━━━━━━━\u001b[0m\u001b[37m\u001b[0m \u001b[1m141s\u001b[0m 46ms/step - accuracy: 0.9011 - loss: 0.2691 - val_accuracy: 0.9029 - val_loss: 0.2610\n",
            "Epoch 12/80\n",
            "\u001b[1m2392/2392\u001b[0m \u001b[32m━━━━━━━━━━━━━━━━━━━━\u001b[0m\u001b[37m\u001b[0m \u001b[1m142s\u001b[0m 46ms/step - accuracy: 0.9022 - loss: 0.2625 - val_accuracy: 0.8996 - val_loss: 0.2661\n",
            "Epoch 13/80\n",
            "\u001b[1m2392/2392\u001b[0m \u001b[32m━━━━━━━━━━━━━━━━━━━━\u001b[0m\u001b[37m\u001b[0m \u001b[1m141s\u001b[0m 46ms/step - accuracy: 0.9036 - loss: 0.2621 - val_accuracy: 0.9052 - val_loss: 0.2623\n",
            "Epoch 14/80\n",
            "\u001b[1m2392/2392\u001b[0m \u001b[32m━━━━━━━━━━━━━━━━━━━━\u001b[0m\u001b[37m\u001b[0m \u001b[1m142s\u001b[0m 46ms/step - accuracy: 0.9048 - loss: 0.2568 - val_accuracy: 0.9072 - val_loss: 0.2531\n",
            "Epoch 15/80\n",
            "\u001b[1m2392/2392\u001b[0m \u001b[32m━━━━━━━━━━━━━━━━━━━━\u001b[0m\u001b[37m\u001b[0m \u001b[1m143s\u001b[0m 46ms/step - accuracy: 0.9074 - loss: 0.2479 - val_accuracy: 0.9050 - val_loss: 0.2538\n",
            "Epoch 16/80\n",
            "\u001b[1m2392/2392\u001b[0m \u001b[32m━━━━━━━━━━━━━━━━━━━━\u001b[0m\u001b[37m\u001b[0m \u001b[1m142s\u001b[0m 46ms/step - accuracy: 0.9086 - loss: 0.2483 - val_accuracy: 0.9084 - val_loss: 0.2539\n",
            "Epoch 17/80\n",
            "\u001b[1m2392/2392\u001b[0m \u001b[32m━━━━━━━━━━━━━━━━━━━━\u001b[0m\u001b[37m\u001b[0m \u001b[1m109s\u001b[0m 46ms/step - accuracy: 0.9108 - loss: 0.2431 - val_accuracy: 0.9092 - val_loss: 0.2506\n",
            "Epoch 18/80\n",
            "\u001b[1m2392/2392\u001b[0m \u001b[32m━━━━━━━━━━━━━━━━━━━━\u001b[0m\u001b[37m\u001b[0m \u001b[1m142s\u001b[0m 45ms/step - accuracy: 0.9123 - loss: 0.2375 - val_accuracy: 0.9027 - val_loss: 0.2701\n",
            "Epoch 19/80\n",
            "\u001b[1m2392/2392\u001b[0m \u001b[32m━━━━━━━━━━━━━━━━━━━━\u001b[0m\u001b[37m\u001b[0m \u001b[1m143s\u001b[0m 46ms/step - accuracy: 0.9132 - loss: 0.2376 - val_accuracy: 0.9100 - val_loss: 0.2447\n",
            "Epoch 20/80\n",
            "\u001b[1m2392/2392\u001b[0m \u001b[32m━━━━━━━━━━━━━━━━━━━━\u001b[0m\u001b[37m\u001b[0m \u001b[1m143s\u001b[0m 46ms/step - accuracy: 0.9140 - loss: 0.2344 - val_accuracy: 0.9082 - val_loss: 0.2472\n",
            "Epoch 21/80\n",
            "\u001b[1m2392/2392\u001b[0m \u001b[32m━━━━━━━━━━━━━━━━━━━━\u001b[0m\u001b[37m\u001b[0m \u001b[1m142s\u001b[0m 46ms/step - accuracy: 0.9168 - loss: 0.2266 - val_accuracy: 0.9082 - val_loss: 0.2494\n",
            "Epoch 22/80\n",
            "\u001b[1m2392/2392\u001b[0m \u001b[32m━━━━━━━━━━━━━━━━━━━━\u001b[0m\u001b[37m\u001b[0m \u001b[1m142s\u001b[0m 46ms/step - accuracy: 0.9174 - loss: 0.2255 - val_accuracy: 0.9081 - val_loss: 0.2592\n",
            "Epoch 23/80\n",
            "\u001b[1m2392/2392\u001b[0m \u001b[32m━━━━━━━━━━━━━━━━━━━━\u001b[0m\u001b[37m\u001b[0m \u001b[1m141s\u001b[0m 46ms/step - accuracy: 0.9164 - loss: 0.2263 - val_accuracy: 0.9087 - val_loss: 0.2585\n",
            "Epoch 24/80\n",
            "\u001b[1m2392/2392\u001b[0m \u001b[32m━━━━━━━━━━━━━━━━━━━━\u001b[0m\u001b[37m\u001b[0m \u001b[1m141s\u001b[0m 46ms/step - accuracy: 0.9178 - loss: 0.2225 - val_accuracy: 0.9120 - val_loss: 0.2407\n",
            "Epoch 25/80\n",
            "\u001b[1m2392/2392\u001b[0m \u001b[32m━━━━━━━━━━━━━━━━━━━━\u001b[0m\u001b[37m\u001b[0m \u001b[1m144s\u001b[0m 47ms/step - accuracy: 0.9182 - loss: 0.2208 - val_accuracy: 0.9105 - val_loss: 0.2497\n",
            "Epoch 26/80\n",
            "\u001b[1m2392/2392\u001b[0m \u001b[32m━━━━━━━━━━━━━━━━━━━━\u001b[0m\u001b[37m\u001b[0m \u001b[1m141s\u001b[0m 46ms/step - accuracy: 0.9194 - loss: 0.2192 - val_accuracy: 0.9131 - val_loss: 0.2466\n",
            "Epoch 27/80\n",
            "\u001b[1m2392/2392\u001b[0m \u001b[32m━━━━━━━━━━━━━━━━━━━━\u001b[0m\u001b[37m\u001b[0m \u001b[1m112s\u001b[0m 47ms/step - accuracy: 0.9202 - loss: 0.2143 - val_accuracy: 0.9147 - val_loss: 0.2380\n",
            "Epoch 28/80\n",
            "\u001b[1m2392/2392\u001b[0m \u001b[32m━━━━━━━━━━━━━━━━━━━━\u001b[0m\u001b[37m\u001b[0m \u001b[1m140s\u001b[0m 46ms/step - accuracy: 0.9220 - loss: 0.2130 - val_accuracy: 0.9103 - val_loss: 0.2518\n",
            "Epoch 29/80\n",
            "\u001b[1m2392/2392\u001b[0m \u001b[32m━━━━━━━━━━━━━━━━━━━━\u001b[0m\u001b[37m\u001b[0m \u001b[1m143s\u001b[0m 47ms/step - accuracy: 0.9209 - loss: 0.2132 - val_accuracy: 0.9065 - val_loss: 0.2585\n",
            "Epoch 30/80\n",
            "\u001b[1m2392/2392\u001b[0m \u001b[32m━━━━━━━━━━━━━━━━━━━━\u001b[0m\u001b[37m\u001b[0m \u001b[1m110s\u001b[0m 46ms/step - accuracy: 0.9230 - loss: 0.2090 - val_accuracy: 0.9141 - val_loss: 0.2358\n",
            "Epoch 31/80\n",
            "\u001b[1m2392/2392\u001b[0m \u001b[32m━━━━━━━━━━━━━━━━━━━━\u001b[0m\u001b[37m\u001b[0m \u001b[1m122s\u001b[0m 51ms/step - accuracy: 0.9237 - loss: 0.2100 - val_accuracy: 0.9121 - val_loss: 0.2450\n",
            "Epoch 32/80\n",
            "\u001b[1m2392/2392\u001b[0m \u001b[32m━━━━━━━━━━━━━━━━━━━━\u001b[0m\u001b[37m\u001b[0m \u001b[1m131s\u001b[0m 46ms/step - accuracy: 0.9246 - loss: 0.2034 - val_accuracy: 0.9110 - val_loss: 0.2483\n",
            "Epoch 33/80\n",
            "\u001b[1m2392/2392\u001b[0m \u001b[32m━━━━━━━━━━━━━━━━━━━━\u001b[0m\u001b[37m\u001b[0m \u001b[1m155s\u001b[0m 52ms/step - accuracy: 0.9245 - loss: 0.2041 - val_accuracy: 0.9141 - val_loss: 0.2425\n",
            "Epoch 34/80\n",
            "\u001b[1m2392/2392\u001b[0m \u001b[32m━━━━━━━━━━━━━━━━━━━━\u001b[0m\u001b[37m\u001b[0m \u001b[1m113s\u001b[0m 47ms/step - accuracy: 0.9251 - loss: 0.2033 - val_accuracy: 0.9059 - val_loss: 0.2672\n",
            "Epoch 35/80\n",
            "\u001b[1m2392/2392\u001b[0m \u001b[32m━━━━━━━━━━━━━━━━━━━━\u001b[0m\u001b[37m\u001b[0m \u001b[1m140s\u001b[0m 46ms/step - accuracy: 0.9258 - loss: 0.2023 - val_accuracy: 0.9099 - val_loss: 0.2534\n",
            "Epoch 36/80\n",
            "\u001b[1m2392/2392\u001b[0m \u001b[32m━━━━━━━━━━━━━━━━━━━━\u001b[0m\u001b[37m\u001b[0m \u001b[1m143s\u001b[0m 47ms/step - accuracy: 0.9258 - loss: 0.2022 - val_accuracy: 0.9123 - val_loss: 0.2488\n",
            "Epoch 37/80\n",
            "\u001b[1m2392/2392\u001b[0m \u001b[32m━━━━━━━━━━━━━━━━━━━━\u001b[0m\u001b[37m\u001b[0m \u001b[1m141s\u001b[0m 47ms/step - accuracy: 0.9266 - loss: 0.2007 - val_accuracy: 0.9156 - val_loss: 0.2389\n",
            "Epoch 38/80\n",
            "\u001b[1m2392/2392\u001b[0m \u001b[32m━━━━━━━━━━━━━━━━━━━━\u001b[0m\u001b[37m\u001b[0m \u001b[1m152s\u001b[0m 51ms/step - accuracy: 0.9258 - loss: 0.2011 - val_accuracy: 0.9137 - val_loss: 0.2459\n",
            "Epoch 39/80\n",
            "\u001b[1m2392/2392\u001b[0m \u001b[32m━━━━━━━━━━━━━━━━━━━━\u001b[0m\u001b[37m\u001b[0m \u001b[1m130s\u001b[0m 46ms/step - accuracy: 0.9270 - loss: 0.1955 - val_accuracy: 0.9152 - val_loss: 0.2512\n",
            "Epoch 40/80\n",
            "\u001b[1m2392/2392\u001b[0m \u001b[32m━━━━━━━━━━━━━━━━━━━━\u001b[0m\u001b[37m\u001b[0m \u001b[1m142s\u001b[0m 47ms/step - accuracy: 0.9285 - loss: 0.1953 - val_accuracy: 0.9110 - val_loss: 0.2556\n",
            "Epoch 41/80\n",
            "\u001b[1m2392/2392\u001b[0m \u001b[32m━━━━━━━━━━━━━━━━━━━━\u001b[0m\u001b[37m\u001b[0m \u001b[1m143s\u001b[0m 47ms/step - accuracy: 0.9291 - loss: 0.1952 - val_accuracy: 0.9118 - val_loss: 0.2608\n",
            "Epoch 42/80\n",
            "\u001b[1m2392/2392\u001b[0m \u001b[32m━━━━━━━━━━━━━━━━━━━━\u001b[0m\u001b[37m\u001b[0m \u001b[1m141s\u001b[0m 47ms/step - accuracy: 0.9301 - loss: 0.1918 - val_accuracy: 0.9095 - val_loss: 0.2625\n",
            "Epoch 43/80\n",
            "\u001b[1m2392/2392\u001b[0m \u001b[32m━━━━━━━━━━━━━━━━━━━━\u001b[0m\u001b[37m\u001b[0m \u001b[1m142s\u001b[0m 47ms/step - accuracy: 0.9290 - loss: 0.1903 - val_accuracy: 0.9192 - val_loss: 0.2421\n",
            "Epoch 44/80\n",
            "\u001b[1m2392/2392\u001b[0m \u001b[32m━━━━━━━━━━━━━━━━━━━━\u001b[0m\u001b[37m\u001b[0m \u001b[1m140s\u001b[0m 46ms/step - accuracy: 0.9302 - loss: 0.1908 - val_accuracy: 0.9153 - val_loss: 0.2396\n",
            "Epoch 45/80\n",
            "\u001b[1m2392/2392\u001b[0m \u001b[32m━━━━━━━━━━━━━━━━━━━━\u001b[0m\u001b[37m\u001b[0m \u001b[1m142s\u001b[0m 47ms/step - accuracy: 0.9295 - loss: 0.1888 - val_accuracy: 0.9138 - val_loss: 0.2418\n",
            "Epoch 46/80\n",
            "\u001b[1m2392/2392\u001b[0m \u001b[32m━━━━━━━━━━━━━━━━━━━━\u001b[0m\u001b[37m\u001b[0m \u001b[1m111s\u001b[0m 47ms/step - accuracy: 0.9292 - loss: 0.1919 - val_accuracy: 0.9092 - val_loss: 0.2486\n",
            "Epoch 47/80\n",
            "\u001b[1m2392/2392\u001b[0m \u001b[32m━━━━━━━━━━━━━━━━━━━━\u001b[0m\u001b[37m\u001b[0m \u001b[1m154s\u001b[0m 52ms/step - accuracy: 0.9287 - loss: 0.1915 - val_accuracy: 0.9160 - val_loss: 0.2381\n",
            "Epoch 48/80\n",
            "\u001b[1m2392/2392\u001b[0m \u001b[32m━━━━━━━━━━━━━━━━━━━━\u001b[0m\u001b[37m\u001b[0m \u001b[1m130s\u001b[0m 47ms/step - accuracy: 0.9308 - loss: 0.1842 - val_accuracy: 0.9127 - val_loss: 0.2532\n",
            "Epoch 49/80\n",
            "\u001b[1m2392/2392\u001b[0m \u001b[32m━━━━━━━━━━━━━━━━━━━━\u001b[0m\u001b[37m\u001b[0m \u001b[1m142s\u001b[0m 47ms/step - accuracy: 0.9304 - loss: 0.1870 - val_accuracy: 0.9147 - val_loss: 0.2411\n",
            "Epoch 50/80\n",
            "\u001b[1m2392/2392\u001b[0m \u001b[32m━━━━━━━━━━━━━━━━━━━━\u001b[0m\u001b[37m\u001b[0m \u001b[1m111s\u001b[0m 46ms/step - accuracy: 0.9308 - loss: 0.1872 - val_accuracy: 0.9176 - val_loss: 0.2433\n",
            "Epoch 51/80\n",
            "\u001b[1m2392/2392\u001b[0m \u001b[32m━━━━━━━━━━━━━━━━━━━━\u001b[0m\u001b[37m\u001b[0m \u001b[1m141s\u001b[0m 46ms/step - accuracy: 0.9304 - loss: 0.1867 - val_accuracy: 0.9170 - val_loss: 0.2428\n",
            "Epoch 52/80\n",
            "\u001b[1m2392/2392\u001b[0m \u001b[32m━━━━━━━━━━━━━━━━━━━━\u001b[0m\u001b[37m\u001b[0m \u001b[1m143s\u001b[0m 47ms/step - accuracy: 0.9322 - loss: 0.1828 - val_accuracy: 0.9157 - val_loss: 0.2515\n",
            "Epoch 53/80\n",
            "\u001b[1m2392/2392\u001b[0m \u001b[32m━━━━━━━━━━━━━━━━━━━━\u001b[0m\u001b[37m\u001b[0m \u001b[1m141s\u001b[0m 46ms/step - accuracy: 0.9317 - loss: 0.1837 - val_accuracy: 0.9100 - val_loss: 0.2567\n",
            "Epoch 54/80\n",
            "\u001b[1m2392/2392\u001b[0m \u001b[32m━━━━━━━━━━━━━━━━━━━━\u001b[0m\u001b[37m\u001b[0m \u001b[1m111s\u001b[0m 46ms/step - accuracy: 0.9320 - loss: 0.1829 - val_accuracy: 0.9134 - val_loss: 0.2679\n",
            "Epoch 55/80\n",
            "\u001b[1m2392/2392\u001b[0m \u001b[32m━━━━━━━━━━━━━━━━━━━━\u001b[0m\u001b[37m\u001b[0m \u001b[1m143s\u001b[0m 47ms/step - accuracy: 0.9316 - loss: 0.1824 - val_accuracy: 0.9126 - val_loss: 0.2491\n",
            "Epoch 56/80\n",
            "\u001b[1m2392/2392\u001b[0m \u001b[32m━━━━━━━━━━━━━━━━━━━━\u001b[0m\u001b[37m\u001b[0m \u001b[1m112s\u001b[0m 47ms/step - accuracy: 0.9326 - loss: 0.1808 - val_accuracy: 0.9164 - val_loss: 0.2600\n",
            "Epoch 57/80\n",
            "\u001b[1m2392/2392\u001b[0m \u001b[32m━━━━━━━━━━━━━━━━━━━━\u001b[0m\u001b[37m\u001b[0m \u001b[1m140s\u001b[0m 46ms/step - accuracy: 0.9331 - loss: 0.1792 - val_accuracy: 0.9152 - val_loss: 0.2540\n",
            "Epoch 58/80\n",
            "\u001b[1m2392/2392\u001b[0m \u001b[32m━━━━━━━━━━━━━━━━━━━━\u001b[0m\u001b[37m\u001b[0m \u001b[1m144s\u001b[0m 47ms/step - accuracy: 0.9346 - loss: 0.1764 - val_accuracy: 0.9178 - val_loss: 0.2408\n",
            "Epoch 59/80\n",
            "\u001b[1m2392/2392\u001b[0m \u001b[32m━━━━━━━━━━━━━━━━━━━━\u001b[0m\u001b[37m\u001b[0m \u001b[1m142s\u001b[0m 47ms/step - accuracy: 0.9340 - loss: 0.1782 - val_accuracy: 0.9111 - val_loss: 0.2538\n",
            "Epoch 60/80\n",
            "\u001b[1m2392/2392\u001b[0m \u001b[32m━━━━━━━━━━━━━━━━━━━━\u001b[0m\u001b[37m\u001b[0m \u001b[1m111s\u001b[0m 46ms/step - accuracy: 0.9335 - loss: 0.1783 - val_accuracy: 0.9181 - val_loss: 0.2642\n",
            "Epoch 61/80\n",
            "\u001b[1m2392/2392\u001b[0m \u001b[32m━━━━━━━━━━━━━━━━━━━━\u001b[0m\u001b[37m\u001b[0m \u001b[1m146s\u001b[0m 48ms/step - accuracy: 0.9344 - loss: 0.1753 - val_accuracy: 0.9155 - val_loss: 0.2630\n",
            "Epoch 62/80\n",
            "\u001b[1m2392/2392\u001b[0m \u001b[32m━━━━━━━━━━━━━━━━━━━━\u001b[0m\u001b[37m\u001b[0m \u001b[1m140s\u001b[0m 47ms/step - accuracy: 0.9354 - loss: 0.1737 - val_accuracy: 0.9135 - val_loss: 0.2907\n",
            "Epoch 63/80\n",
            "\u001b[1m2392/2392\u001b[0m \u001b[32m━━━━━━━━━━━━━━━━━━━━\u001b[0m\u001b[37m\u001b[0m \u001b[1m181s\u001b[0m 63ms/step - accuracy: 0.9334 - loss: 0.1795 - val_accuracy: 0.9177 - val_loss: 0.2534\n",
            "Epoch 64/80\n",
            "\u001b[1m2392/2392\u001b[0m \u001b[32m━━━━━━━━━━━━━━━━━━━━\u001b[0m\u001b[37m\u001b[0m \u001b[1m118s\u001b[0m 49ms/step - accuracy: 0.9349 - loss: 0.1731 - val_accuracy: 0.9177 - val_loss: 0.2551\n",
            "Epoch 65/80\n",
            "\u001b[1m2392/2392\u001b[0m \u001b[32m━━━━━━━━━━━━━━━━━━━━\u001b[0m\u001b[37m\u001b[0m \u001b[1m136s\u001b[0m 47ms/step - accuracy: 0.9359 - loss: 0.1742 - val_accuracy: 0.9187 - val_loss: 0.2571\n",
            "Epoch 66/80\n",
            "\u001b[1m2392/2392\u001b[0m \u001b[32m━━━━━━━━━━━━━━━━━━━━\u001b[0m\u001b[37m\u001b[0m \u001b[1m142s\u001b[0m 47ms/step - accuracy: 0.9357 - loss: 0.1732 - val_accuracy: 0.9152 - val_loss: 0.2638\n",
            "Epoch 67/80\n",
            "\u001b[1m2392/2392\u001b[0m \u001b[32m━━━━━━━━━━━━━━━━━━━━\u001b[0m\u001b[37m\u001b[0m \u001b[1m111s\u001b[0m 46ms/step - accuracy: 0.9366 - loss: 0.1711 - val_accuracy: 0.9173 - val_loss: 0.2482\n",
            "Epoch 68/80\n",
            "\u001b[1m2392/2392\u001b[0m \u001b[32m━━━━━━━━━━━━━━━━━━━━\u001b[0m\u001b[37m\u001b[0m \u001b[1m142s\u001b[0m 46ms/step - accuracy: 0.9359 - loss: 0.1711 - val_accuracy: 0.9191 - val_loss: 0.2532\n",
            "Epoch 69/80\n",
            "\u001b[1m2392/2392\u001b[0m \u001b[32m━━━━━━━━━━━━━━━━━━━━\u001b[0m\u001b[37m\u001b[0m \u001b[1m143s\u001b[0m 47ms/step - accuracy: 0.9358 - loss: 0.1714 - val_accuracy: 0.9179 - val_loss: 0.2603\n",
            "Epoch 70/80\n",
            "\u001b[1m2392/2392\u001b[0m \u001b[32m━━━━━━━━━━━━━━━━━━━━\u001b[0m\u001b[37m\u001b[0m \u001b[1m110s\u001b[0m 46ms/step - accuracy: 0.9363 - loss: 0.1720 - val_accuracy: 0.9142 - val_loss: 0.2688\n",
            "Epoch 71/80\n",
            "\u001b[1m2392/2392\u001b[0m \u001b[32m━━━━━━━━━━━━━━━━━━━━\u001b[0m\u001b[37m\u001b[0m \u001b[1m111s\u001b[0m 46ms/step - accuracy: 0.9377 - loss: 0.1687 - val_accuracy: 0.9175 - val_loss: 0.2504\n",
            "Epoch 72/80\n",
            "\u001b[1m2392/2392\u001b[0m \u001b[32m━━━━━━━━━━━━━━━━━━━━\u001b[0m\u001b[37m\u001b[0m \u001b[1m112s\u001b[0m 47ms/step - accuracy: 0.9371 - loss: 0.1700 - val_accuracy: 0.9168 - val_loss: 0.2563\n",
            "Epoch 73/80\n",
            "\u001b[1m2392/2392\u001b[0m \u001b[32m━━━━━━━━━━━━━━━━━━━━\u001b[0m\u001b[37m\u001b[0m \u001b[1m112s\u001b[0m 47ms/step - accuracy: 0.9373 - loss: 0.1695 - val_accuracy: 0.9179 - val_loss: 0.2488\n",
            "Epoch 74/80\n",
            "\u001b[1m2392/2392\u001b[0m \u001b[32m━━━━━━━━━━━━━━━━━━━━\u001b[0m\u001b[37m\u001b[0m \u001b[1m171s\u001b[0m 59ms/step - accuracy: 0.9381 - loss: 0.1658 - val_accuracy: 0.9157 - val_loss: 0.2544\n",
            "Epoch 75/80\n",
            "\u001b[1m2392/2392\u001b[0m \u001b[32m━━━━━━━━━━━━━━━━━━━━\u001b[0m\u001b[37m\u001b[0m \u001b[1m123s\u001b[0m 52ms/step - accuracy: 0.9363 - loss: 0.1701 - val_accuracy: 0.9192 - val_loss: 0.2664\n",
            "Epoch 76/80\n",
            "\u001b[1m2392/2392\u001b[0m \u001b[32m━━━━━━━━━━━━━━━━━━━━\u001b[0m\u001b[37m\u001b[0m \u001b[1m129s\u001b[0m 46ms/step - accuracy: 0.9371 - loss: 0.1679 - val_accuracy: 0.9183 - val_loss: 0.2517\n",
            "Epoch 77/80\n",
            "\u001b[1m2392/2392\u001b[0m \u001b[32m━━━━━━━━━━━━━━━━━━━━\u001b[0m\u001b[37m\u001b[0m \u001b[1m143s\u001b[0m 47ms/step - accuracy: 0.9385 - loss: 0.1645 - val_accuracy: 0.9210 - val_loss: 0.2709\n",
            "Epoch 78/80\n",
            "\u001b[1m2392/2392\u001b[0m \u001b[32m━━━━━━━━━━━━━━━━━━━━\u001b[0m\u001b[37m\u001b[0m \u001b[1m111s\u001b[0m 46ms/step - accuracy: 0.9372 - loss: 0.1663 - val_accuracy: 0.9180 - val_loss: 0.2663\n",
            "Epoch 79/80\n",
            "\u001b[1m2392/2392\u001b[0m \u001b[32m━━━━━━━━━━━━━━━━━━━━\u001b[0m\u001b[37m\u001b[0m \u001b[1m111s\u001b[0m 47ms/step - accuracy: 0.9392 - loss: 0.1646 - val_accuracy: 0.9186 - val_loss: 0.2642\n",
            "Epoch 80/80\n",
            "\u001b[1m2392/2392\u001b[0m \u001b[32m━━━━━━━━━━━━━━━━━━━━\u001b[0m\u001b[37m\u001b[0m \u001b[1m110s\u001b[0m 46ms/step - accuracy: 0.9383 - loss: 0.1657 - val_accuracy: 0.9168 - val_loss: 0.2578\n"
          ]
        },
        {
          "output_type": "execute_result",
          "data": {
            "text/plain": [
              "<keras.src.callbacks.history.History at 0x7eaf631504d0>"
            ]
          },
          "metadata": {},
          "execution_count": 22
        }
      ]
    },
    {
      "cell_type": "code",
      "source": [
        "# Evaluasi model pada data testing\n",
        "# Prediksi pada data uji\n",
        "y_pred1 = np.argmax(model2.predict(X_test), axis=1)\n",
        "\n",
        "# Laporan Klasifikasi\n",
        "print(\"\\nClassification Report:\")\n",
        "print(classification_report(y_test, y_pred1, target_names=label_encoder.classes_))\n",
        "\n",
        "# Akurasi\n",
        "accuracy = accuracy_score(y_test, y_pred1)\n",
        "print(f\"Akurasi Model: {accuracy:.4f}\")"
      ],
      "metadata": {
        "colab": {
          "base_uri": "https://localhost:8080/"
        },
        "id": "qRFsye-16RH-",
        "outputId": "25489075-d53e-4f76-b78a-7f159829b66e"
      },
      "execution_count": 23,
      "outputs": [
        {
          "output_type": "stream",
          "name": "stdout",
          "text": [
            "\u001b[1m1196/1196\u001b[0m \u001b[32m━━━━━━━━━━━━━━━━━━━━\u001b[0m\u001b[37m\u001b[0m \u001b[1m12s\u001b[0m 10ms/step\n",
            "\n",
            "Classification Report:\n",
            "              precision    recall  f1-score   support\n",
            "\n",
            "     negatif       0.89      0.93      0.91     12770\n",
            "      netral       0.92      0.96      0.94     12699\n",
            "     positif       0.95      0.85      0.90     12793\n",
            "\n",
            "    accuracy                           0.92     38262\n",
            "   macro avg       0.92      0.92      0.92     38262\n",
            "weighted avg       0.92      0.92      0.92     38262\n",
            "\n",
            "Akurasi Model: 0.9168\n"
          ]
        }
      ]
    },
    {
      "cell_type": "code",
      "source": [
        "# Inference dan Testing Skema 2\n",
        "print(\"\\nInference Skema 2: CNN dengan Word2Vec (80/20)\")\n",
        "# Fungsi Prediksi Teks\n",
        "def predict_text(text, tokenizer, model2, label_encoder):\n",
        "    # Tokenisasi dan padding teks\n",
        "    sequence = tokenizer.texts_to_sequences([text])\n",
        "    padded_sequence = pad_sequences(sequence, maxlen=100, padding='post')\n",
        "\n",
        "    # Prediksi sentimen\n",
        "    prediction = model2.predict(padded_sequence)\n",
        "    label_index = np.argmax(prediction, axis=1)[0]\n",
        "    label = label_encoder.inverse_transform([label_index])[0]\n",
        "\n",
        "    print(f\"Teks: {text}\")\n",
        "    print(f\"Prediksi Sentimen: {label}\")\n",
        "\n",
        "# Prediksi Teks Baru\n",
        "print(\"\\nPrediksi Teks Baru:\")\n",
        "predict_text(\"As an egyptian, I didn't know about the Sphinx.\", tokenizer, model2, label_encoder)"
      ],
      "metadata": {
        "id": "_UsfMFfeqUJm",
        "colab": {
          "base_uri": "https://localhost:8080/"
        },
        "outputId": "ebf21461-b863-4831-ae72-5f7b2139b981"
      },
      "execution_count": 34,
      "outputs": [
        {
          "output_type": "stream",
          "name": "stdout",
          "text": [
            "\n",
            "Inference Skema 2: CNN dengan Word2Vec (80/20)\n",
            "\n",
            "Prediksi Teks Baru:\n",
            "\u001b[1m1/1\u001b[0m \u001b[32m━━━━━━━━━━━━━━━━━━━━\u001b[0m\u001b[37m\u001b[0m \u001b[1m0s\u001b[0m 54ms/step\n",
            "Teks: As an egyptian, I didn't know about the Sphinx.\n",
            "Prediksi Sentimen: netral\n"
          ]
        }
      ]
    },
    {
      "cell_type": "markdown",
      "source": [
        "**Insight Skema 2 :**\n",
        "\n",
        "1. Model ini memiliki akurasi yang sangat baik, yaitu 91.68%, menunjukkan kemampuan model dalam mengklasifikasikan sentimen dengan cukup akurat.\n",
        "\n",
        "2. Kinerja Model pada Setiap Kelas\n",
        "\n",
        "- Negatif: Precision 0.89, Recall 0.93, F1-Score 0.91\n",
        "- Netral: Precision 0.92, Recall 0.96, F1-Score 0.94\n",
        "- Positif: Precision 0.95, Recall 0.85, F1-Score 0.90\n",
        "- Model memiliki keseimbangan performa yang baik di ketiga kelas, dengan sedikit penurunan pada recall kelas \"positif\".\n",
        "3. Pada teks \"As an Egyptian, I didn't know about the Sphinx.\", model memprediksi sentimen sebagai \"netral\", yang memang sesuai dengan konteks kalimat."
      ],
      "metadata": {
        "id": "L6uFR_uK-5Fr"
      }
    }
  ]
}